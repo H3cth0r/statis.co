{
 "cells": [
  {
   "cell_type": "markdown",
   "id": "ce9cef75-bb5e-47b3-b289-096f12d23e89",
   "metadata": {},
   "source": [
    "# Basic Analysis\n",
    "\n",
    "## Import Libraries"
   ]
  },
  {
   "cell_type": "code",
   "execution_count": 2,
   "id": "459e6ce9-9382-4ced-9142-63d16932054e",
   "metadata": {},
   "outputs": [],
   "source": [
    "# Custom imports\n",
    "from statisco.statistics import closingReturns, mean, variance, stdDev, covariance, correlation\n",
    "import matplotlib.pyplot as plt\n",
    "\n",
    "# Foreing Libraries\n",
    "import yfinance as yf\n",
    "import numpy as np\n",
    "import math"
   ]
  },
  {
   "cell_type": "code",
   "execution_count": 3,
   "id": "e333bead-7bf7-4700-a630-f403b5840e82",
   "metadata": {},
   "outputs": [
    {
     "name": "stdout",
     "output_type": "stream",
     "text": [
      "[*********************100%%**********************]  1 of 1 completed\n",
      "[*********************100%%**********************]  1 of 1 completed\n"
     ]
    }
   ],
   "source": [
    "msft = yf.download(\"MSFT\", period=\"1mo\")\n",
    "aapl = yf.download(\"AAPL\", period=\"1mo\")"
   ]
  },
  {
   "cell_type": "code",
   "execution_count": 4,
   "id": "5a6b5511-f345-4fb2-a08b-982c8511a187",
   "metadata": {},
   "outputs": [
    {
     "data": {
      "text/html": [
       "<div>\n",
       "<style scoped>\n",
       "    .dataframe tbody tr th:only-of-type {\n",
       "        vertical-align: middle;\n",
       "    }\n",
       "\n",
       "    .dataframe tbody tr th {\n",
       "        vertical-align: top;\n",
       "    }\n",
       "\n",
       "    .dataframe thead th {\n",
       "        text-align: right;\n",
       "    }\n",
       "</style>\n",
       "<table border=\"1\" class=\"dataframe\">\n",
       "  <thead>\n",
       "    <tr style=\"text-align: right;\">\n",
       "      <th></th>\n",
       "      <th>Open</th>\n",
       "      <th>High</th>\n",
       "      <th>Low</th>\n",
       "      <th>Close</th>\n",
       "      <th>Adj Close</th>\n",
       "      <th>Volume</th>\n",
       "    </tr>\n",
       "    <tr>\n",
       "      <th>Date</th>\n",
       "      <th></th>\n",
       "      <th></th>\n",
       "      <th></th>\n",
       "      <th></th>\n",
       "      <th></th>\n",
       "      <th></th>\n",
       "    </tr>\n",
       "  </thead>\n",
       "  <tbody>\n",
       "    <tr>\n",
       "      <th>2023-11-08</th>\n",
       "      <td>361.679993</td>\n",
       "      <td>363.869995</td>\n",
       "      <td>360.549988</td>\n",
       "      <td>363.200012</td>\n",
       "      <td>362.464325</td>\n",
       "      <td>26767800</td>\n",
       "    </tr>\n",
       "    <tr>\n",
       "      <th>2023-11-09</th>\n",
       "      <td>362.299988</td>\n",
       "      <td>364.790009</td>\n",
       "      <td>360.359985</td>\n",
       "      <td>360.690002</td>\n",
       "      <td>359.959412</td>\n",
       "      <td>24847300</td>\n",
       "    </tr>\n",
       "    <tr>\n",
       "      <th>2023-11-10</th>\n",
       "      <td>361.489990</td>\n",
       "      <td>370.100006</td>\n",
       "      <td>361.070007</td>\n",
       "      <td>369.670013</td>\n",
       "      <td>368.921234</td>\n",
       "      <td>28042100</td>\n",
       "    </tr>\n",
       "    <tr>\n",
       "      <th>2023-11-13</th>\n",
       "      <td>368.220001</td>\n",
       "      <td>368.470001</td>\n",
       "      <td>365.899994</td>\n",
       "      <td>366.679993</td>\n",
       "      <td>365.937256</td>\n",
       "      <td>19986500</td>\n",
       "    </tr>\n",
       "    <tr>\n",
       "      <th>2023-11-14</th>\n",
       "      <td>371.010010</td>\n",
       "      <td>371.950012</td>\n",
       "      <td>367.350006</td>\n",
       "      <td>370.269989</td>\n",
       "      <td>369.519989</td>\n",
       "      <td>27683900</td>\n",
       "    </tr>\n",
       "  </tbody>\n",
       "</table>\n",
       "</div>"
      ],
      "text/plain": [
       "                  Open        High         Low       Close   Adj Close  \\\n",
       "Date                                                                     \n",
       "2023-11-08  361.679993  363.869995  360.549988  363.200012  362.464325   \n",
       "2023-11-09  362.299988  364.790009  360.359985  360.690002  359.959412   \n",
       "2023-11-10  361.489990  370.100006  361.070007  369.670013  368.921234   \n",
       "2023-11-13  368.220001  368.470001  365.899994  366.679993  365.937256   \n",
       "2023-11-14  371.010010  371.950012  367.350006  370.269989  369.519989   \n",
       "\n",
       "              Volume  \n",
       "Date                  \n",
       "2023-11-08  26767800  \n",
       "2023-11-09  24847300  \n",
       "2023-11-10  28042100  \n",
       "2023-11-13  19986500  \n",
       "2023-11-14  27683900  "
      ]
     },
     "execution_count": 4,
     "metadata": {},
     "output_type": "execute_result"
    }
   ],
   "source": [
    "msft.head(5)"
   ]
  },
  {
   "cell_type": "markdown",
   "id": "a2a14d3a-bf2b-4a0e-9e47-9614f4f6bd38",
   "metadata": {
    "jp-MarkdownHeadingCollapsed": true
   },
   "source": [
    "## Statistics"
   ]
  },
  {
   "cell_type": "markdown",
   "id": "38e9f105-8214-43e8-b624-c6e9b16b4dbb",
   "metadata": {
    "jp-MarkdownHeadingCollapsed": true
   },
   "source": [
    "### Close Returns"
   ]
  },
  {
   "cell_type": "code",
   "execution_count": 4,
   "id": "013b2042-dff7-4f00-9102-b79ede43d9da",
   "metadata": {},
   "outputs": [],
   "source": [
    "msft[\"MyCloseReturns\"] = closingReturns(msft[\"Adj Close\"])"
   ]
  },
  {
   "cell_type": "code",
   "execution_count": 5,
   "id": "314560ec-60aa-4aba-9516-09310ea0d799",
   "metadata": {},
   "outputs": [],
   "source": [
    "aapl[\"MyCloseReturns\"] = closingReturns(aapl[\"Adj Close\"])"
   ]
  },
  {
   "cell_type": "code",
   "execution_count": 6,
   "id": "b87d05c7-126b-4f62-9911-aadfba4e61e7",
   "metadata": {},
   "outputs": [],
   "source": [
    "msft[\"CloseReturns\"] = msft[\"Adj Close\"].pct_change()"
   ]
  },
  {
   "cell_type": "code",
   "execution_count": 7,
   "id": "19d6ebfb-12fa-46e1-a7ea-86cbeab4d8e5",
   "metadata": {},
   "outputs": [
    {
     "data": {
      "text/html": [
       "<div>\n",
       "<style scoped>\n",
       "    .dataframe tbody tr th:only-of-type {\n",
       "        vertical-align: middle;\n",
       "    }\n",
       "\n",
       "    .dataframe tbody tr th {\n",
       "        vertical-align: top;\n",
       "    }\n",
       "\n",
       "    .dataframe thead th {\n",
       "        text-align: right;\n",
       "    }\n",
       "</style>\n",
       "<table border=\"1\" class=\"dataframe\">\n",
       "  <thead>\n",
       "    <tr style=\"text-align: right;\">\n",
       "      <th></th>\n",
       "      <th>Open</th>\n",
       "      <th>High</th>\n",
       "      <th>Low</th>\n",
       "      <th>Close</th>\n",
       "      <th>Adj Close</th>\n",
       "      <th>Volume</th>\n",
       "      <th>MyCloseReturns</th>\n",
       "      <th>CloseReturns</th>\n",
       "    </tr>\n",
       "    <tr>\n",
       "      <th>Date</th>\n",
       "      <th></th>\n",
       "      <th></th>\n",
       "      <th></th>\n",
       "      <th></th>\n",
       "      <th></th>\n",
       "      <th></th>\n",
       "      <th></th>\n",
       "      <th></th>\n",
       "    </tr>\n",
       "  </thead>\n",
       "  <tbody>\n",
       "    <tr>\n",
       "      <th>2023-11-07</th>\n",
       "      <td>359.399994</td>\n",
       "      <td>362.459991</td>\n",
       "      <td>357.630005</td>\n",
       "      <td>360.529999</td>\n",
       "      <td>359.799744</td>\n",
       "      <td>25833900</td>\n",
       "      <td>0.000000</td>\n",
       "      <td>NaN</td>\n",
       "    </tr>\n",
       "    <tr>\n",
       "      <th>2023-11-08</th>\n",
       "      <td>361.679993</td>\n",
       "      <td>363.869995</td>\n",
       "      <td>360.549988</td>\n",
       "      <td>363.200012</td>\n",
       "      <td>362.464325</td>\n",
       "      <td>26767800</td>\n",
       "      <td>0.007406</td>\n",
       "      <td>0.007406</td>\n",
       "    </tr>\n",
       "    <tr>\n",
       "      <th>2023-11-09</th>\n",
       "      <td>362.299988</td>\n",
       "      <td>364.790009</td>\n",
       "      <td>360.359985</td>\n",
       "      <td>360.690002</td>\n",
       "      <td>359.959412</td>\n",
       "      <td>24847300</td>\n",
       "      <td>-0.006911</td>\n",
       "      <td>-0.006911</td>\n",
       "    </tr>\n",
       "    <tr>\n",
       "      <th>2023-11-10</th>\n",
       "      <td>361.489990</td>\n",
       "      <td>370.100006</td>\n",
       "      <td>361.070007</td>\n",
       "      <td>369.670013</td>\n",
       "      <td>368.921234</td>\n",
       "      <td>28042100</td>\n",
       "      <td>0.024897</td>\n",
       "      <td>0.024897</td>\n",
       "    </tr>\n",
       "    <tr>\n",
       "      <th>2023-11-13</th>\n",
       "      <td>368.220001</td>\n",
       "      <td>368.470001</td>\n",
       "      <td>365.899994</td>\n",
       "      <td>366.679993</td>\n",
       "      <td>365.937256</td>\n",
       "      <td>19986500</td>\n",
       "      <td>-0.008088</td>\n",
       "      <td>-0.008088</td>\n",
       "    </tr>\n",
       "  </tbody>\n",
       "</table>\n",
       "</div>"
      ],
      "text/plain": [
       "                  Open        High         Low       Close   Adj Close  \\\n",
       "Date                                                                     \n",
       "2023-11-07  359.399994  362.459991  357.630005  360.529999  359.799744   \n",
       "2023-11-08  361.679993  363.869995  360.549988  363.200012  362.464325   \n",
       "2023-11-09  362.299988  364.790009  360.359985  360.690002  359.959412   \n",
       "2023-11-10  361.489990  370.100006  361.070007  369.670013  368.921234   \n",
       "2023-11-13  368.220001  368.470001  365.899994  366.679993  365.937256   \n",
       "\n",
       "              Volume  MyCloseReturns  CloseReturns  \n",
       "Date                                                \n",
       "2023-11-07  25833900        0.000000           NaN  \n",
       "2023-11-08  26767800        0.007406      0.007406  \n",
       "2023-11-09  24847300       -0.006911     -0.006911  \n",
       "2023-11-10  28042100        0.024897      0.024897  \n",
       "2023-11-13  19986500       -0.008088     -0.008088  "
      ]
     },
     "execution_count": 7,
     "metadata": {},
     "output_type": "execute_result"
    }
   ],
   "source": [
    "msft.head()"
   ]
  },
  {
   "cell_type": "markdown",
   "id": "3c58f936-59f2-4484-ac9f-9f77345d5c54",
   "metadata": {},
   "source": [
    "### Mean"
   ]
  },
  {
   "cell_type": "code",
   "execution_count": 8,
   "id": "a5a3270b-b61f-46ad-8153-8d2857bb9ff5",
   "metadata": {},
   "outputs": [
    {
     "name": "stdout",
     "output_type": "stream",
     "text": [
      "default pandas mean: 0.0011897172488205695\n",
      "myMean: 0.0011897172488205695\n"
     ]
    }
   ],
   "source": [
    "defaultMean = msft[\"MyCloseReturns\"].mean()\n",
    "myMean = mean(msft[\"MyCloseReturns\"])\n",
    "myMeanAapl = mean(aapl[\"MyCloseReturns\"])\n",
    "\n",
    "print(f\"default pandas mean: {defaultMean}\")\n",
    "print(f\"myMean: {myMean}\")"
   ]
  },
  {
   "cell_type": "markdown",
   "id": "9705213e-55fc-4f74-8864-46441880e056",
   "metadata": {},
   "source": [
    "### Variance"
   ]
  },
  {
   "cell_type": "code",
   "execution_count": 9,
   "id": "815a8d31-99ec-401e-83b0-91519ece3d53",
   "metadata": {},
   "outputs": [
    {
     "name": "stdout",
     "output_type": "stream",
     "text": [
      "default numpy variance: 0.00013256809269148416\n",
      "myMean: 0.0001325680926914842\n"
     ]
    }
   ],
   "source": [
    "defaultVariance = np.var(msft[\"MyCloseReturns\"])\n",
    "myVariance = variance(msft[\"MyCloseReturns\"], myMean)\n",
    "myVarianceAapl = variance(aapl[\"MyCloseReturns\"], myMeanAapl)\n",
    "\n",
    "print(f\"default numpy variance: {defaultVariance}\")\n",
    "print(f\"myMean: {myVariance}\")"
   ]
  },
  {
   "cell_type": "markdown",
   "id": "0d6f6bc3-ac98-485b-b676-5343a870e1f3",
   "metadata": {},
   "source": [
    "### Std Dev"
   ]
  },
  {
   "cell_type": "code",
   "execution_count": 10,
   "id": "9212d246-a269-4887-ad44-17eae2618a4f",
   "metadata": {},
   "outputs": [
    {
     "name": "stdout",
     "output_type": "stream",
     "text": [
      "default numpy std dev: 0.011784772335948043\n",
      "myStandardDeviation: 0.011513821810827376\n"
     ]
    }
   ],
   "source": [
    "defaultStandardDeviation = msft[\"MyCloseReturns\"].std()\n",
    "myStandardDeviation = stdDev(msft[\"MyCloseReturns\"], myMean)\n",
    "myStandardDeviationAapl = stdDev(aapl[\"MyCloseReturns\"], myMeanAapl)\n",
    "\n",
    "print(f\"default numpy std dev: {defaultStandardDeviation}\")\n",
    "print(f\"myStandardDeviation: {myStandardDeviation}\")"
   ]
  },
  {
   "cell_type": "markdown",
   "id": "bb02ab29-4be0-4231-857d-36ff5d7eb4d1",
   "metadata": {},
   "source": [
    "### Covariance"
   ]
  },
  {
   "cell_type": "code",
   "execution_count": 11,
   "id": "6b1cee92-e814-4aff-8f52-5f491d8894aa",
   "metadata": {},
   "outputs": [
    {
     "name": "stdout",
     "output_type": "stream",
     "text": [
      "defualt covariance: 7.747994065058295e-05\n",
      "myCovariance: 7.747994065058295e-05\n"
     ]
    }
   ],
   "source": [
    "covariance_matrix = np.cov(msft[\"MyCloseReturns\"], aapl[\"MyCloseReturns\"])\n",
    "covariance_value = covariance_matrix[0, 1]\n",
    "\n",
    "myCovariance = covariance(msft[\"MyCloseReturns\"], myMean, aapl[\"MyCloseReturns\"], myMeanAapl)\n",
    "\n",
    "print(f\"defualt covariance: {covariance_value}\")\n",
    "print(f\"myCovariance: {myCovariance}\")"
   ]
  },
  {
   "cell_type": "markdown",
   "id": "7840700c-f653-456f-b2e4-840421a0f1b3",
   "metadata": {},
   "source": [
    "### Correlation"
   ]
  },
  {
   "cell_type": "code",
   "execution_count": 12,
   "id": "36b9e0d9-b9d1-44dd-8fa8-8be9222294fb",
   "metadata": {},
   "outputs": [],
   "source": [
    "correlation_coefficient = np.corrcoef(msft[\"MyCloseReturns\"], aapl[\"MyCloseReturns\"])[0, 1]\n",
    "myCorrelation = correlation(myCovariance, myVariance, myVarianceAapl)"
   ]
  },
  {
   "cell_type": "code",
   "execution_count": 15,
   "id": "ddff4f5a-5d41-427c-b18d-bf131f4bf1ad",
   "metadata": {},
   "outputs": [
    {
     "name": "stdout",
     "output_type": "stream",
     "text": [
      "defualt correlation: 0.7481481641011334\n",
      "myCorrelation: 0.7837742671535681\n"
     ]
    }
   ],
   "source": [
    "print(f\"defualt correlation: {correlation_coefficient}\")\n",
    "print(f\"myCorrelation: {myCorrelation}\")"
   ]
  },
  {
   "cell_type": "markdown",
   "id": "ec3df93d-0eeb-4e4c-9bdd-97917590f377",
   "metadata": {
    "jp-MarkdownHeadingCollapsed": true
   },
   "source": [
    "## Financial Calculations"
   ]
  },
  {
   "cell_type": "code",
   "execution_count": 1,
   "id": "ce6b73bb-843f-414e-b297-c2676b8bb6fa",
   "metadata": {},
   "outputs": [],
   "source": [
    "from statisco.finance import compoundInterest, moneyMadeInAYear, compoundInterestTime, expectedValue"
   ]
  },
  {
   "cell_type": "markdown",
   "id": "3e7e20d0-83a5-4b46-861d-af1bd6aaff68",
   "metadata": {},
   "source": [
    "### Compound Interest\n",
    "- **Principal**: Initial amount of money invested or loaned.\n",
    "- **Interest Rate**: The percentage of the principal that is charged or paid over a certain period. An interest rate of 5% means that 5% of the principal will be added to or deducted from the principal each period.\n",
    "- **Time Period**: Duration for which the money is invested or borrowed."
   ]
  },
  {
   "cell_type": "code",
   "execution_count": 2,
   "id": "5dd7e87f-abbc-44c3-b331-eb3f74403294",
   "metadata": {},
   "outputs": [],
   "source": [
    "def compound_interest(principal, interest_rate, time_period):\n",
    "    # Check if the inputs are valid\n",
    "    if time_period < 0:\n",
    "        raise ValueError(\"Time cannot be negative.\")\n",
    "    \n",
    "    # Calculate compound interest using the formula A = P * (1 + r)^t\n",
    "    future_value = principal * (1 + interest_rate) ** time_period\n",
    "    return future_value"
   ]
  },
  {
   "cell_type": "code",
   "execution_count": 3,
   "id": "d481ac8f-431f-49cb-93d1-48c6857de2ce",
   "metadata": {},
   "outputs": [
    {
     "name": "stdout",
     "output_type": "stream",
     "text": [
      "compound interest: 1102.5\n",
      "default compound interest: 1102.5\n"
     ]
    }
   ],
   "source": [
    "principal = 1000.0\n",
    "itr = 0.05\n",
    "t = 2.0\n",
    "cmpi = compoundInterest(principal, itr, t)\n",
    "default_cmpi = compound_interest(principal, itr, t)\n",
    "print(f\"compound interest: {cmpi}\")\n",
    "print(f\"default compound interest: {default_cmpi}\")"
   ]
  },
  {
   "cell_type": "markdown",
   "id": "527b4ea7-4d1c-4289-98f8-d9ec2b764cfb",
   "metadata": {},
   "source": [
    "### Money Made in a Year"
   ]
  },
  {
   "cell_type": "code",
   "execution_count": 4,
   "id": "abf2e0a3-b5ce-4284-a2ad-e042317384e0",
   "metadata": {},
   "outputs": [
    {
     "name": "stdout",
     "output_type": "stream",
     "text": [
      "Money Made in a Year: 55.125\n",
      "default money made in a year: 55.125\n"
     ]
    }
   ],
   "source": [
    "def money_made_in_a_year(P_t, r_t, t_t):\n",
    "    return r_t * (P_t * (1 + r_t) ** t_t)\n",
    "\n",
    "principal = 1000.0\n",
    "interest_rate = 0.05\n",
    "time_period = 2.0\n",
    "\n",
    "mmiay = moneyMadeInAYear(principal, itr, t)\n",
    "default_mmiay = money_made_in_a_year(principal, itr, t)\n",
    "print(f\"Money Made in a Year: {mmiay}\")\n",
    "print(f\"default money made in a year: {default_mmiay}\")"
   ]
  },
  {
   "cell_type": "markdown",
   "id": "142e1495-98c9-46fa-8190-d3089cd77895",
   "metadata": {},
   "source": [
    "### Compound Interest"
   ]
  },
  {
   "cell_type": "code",
   "execution_count": 8,
   "id": "5e0ccffe-35db-46c7-8c71-36f8c01031f9",
   "metadata": {},
   "outputs": [
    {
     "name": "stdout",
     "output_type": "stream",
     "text": [
      "Default compound interest time: 61.40033190195481 years\n",
      "cmpt: 61.40033190195481 years\n"
     ]
    }
   ],
   "source": [
    "def compound_interest_time(r_t):\n",
    "    \"\"\"\n",
    "    Calculate the time it takes for compound interest to reach a factor.\n",
    "    \"\"\"\n",
    "    return -math.log(r_t) / math.log(1 + r_t)\n",
    "\n",
    "interest_rate = 0.05  # Example interest rate (5%)\n",
    "compound_time = compound_interest_time(interest_rate)\n",
    "cmpt = compoundInterestTime(interest_rate)\n",
    "\n",
    "print(f\"Default compound interest time: {compound_time} years\")\n",
    "print(f\"cmpt: {cmpt} years\")"
   ]
  },
  {
   "cell_type": "markdown",
   "id": "535f5419-33c0-4a81-9e95-1f795b270428",
   "metadata": {},
   "source": [
    "### Expected Value"
   ]
  },
  {
   "cell_type": "code",
   "execution_count": 6,
   "id": "42530907-9636-4634-a845-b8dda724261c",
   "metadata": {},
   "outputs": [
    {
     "name": "stdout",
     "output_type": "stream",
     "text": [
      "Default expected value: 11.0 \n",
      "expected value: 11.0\n"
     ]
    }
   ],
   "source": [
    "def expected_value(avg_loss, prob_loss, avg_gain, prob_gain):return (avg_loss * prob_loss) + (avg_gain * prob_gain)\n",
    "\n",
    "# Example usage:\n",
    "avg_loss = -10.0   # Average loss amount\n",
    "prob_loss = 0.3    # Probability of a loss\n",
    "avg_gain = 20.0    # Average gain amount\n",
    "prob_gain = 0.7    # Probability of a gain\n",
    "\n",
    "defaultEV = expected_value(avg_loss, prob_loss, avg_gain, prob_gain)\n",
    "EV = expectedValue(avg_loss, prob_loss, avg_gain, prob_gain)\n",
    "print(f\"Default expected value: {defaultEV} \")\n",
    "print(f\"expected value: {EV}\")"
   ]
  },
  {
   "cell_type": "markdown",
   "id": "6b4e9283-3b0e-4c3a-b7c9-92b931c0a048",
   "metadata": {},
   "source": [
    "## Indicators"
   ]
  },
  {
   "cell_type": "code",
   "execution_count": 5,
   "id": "6f5f51d9-cc19-4dc1-9336-c26f9e46e50d",
   "metadata": {},
   "outputs": [],
   "source": [
    "from statisco.indicators.MAs import SMA"
   ]
  },
  {
   "cell_type": "code",
   "execution_count": 6,
   "id": "40fdb01a-d5ea-490f-a0c9-7c895c0798b0",
   "metadata": {},
   "outputs": [],
   "source": [
    "def calculate_sma(data, window):\n",
    "    sma = np.convolve(data, np.ones(window)/window, mode='valid')\n",
    "    return sma"
   ]
  },
  {
   "cell_type": "code",
   "execution_count": 7,
   "id": "cabe670b-426d-42d0-87de-01561877a020",
   "metadata": {},
   "outputs": [],
   "source": [
    "window_size = 3\n",
    "msft['SMA'] = msft['Close'].rolling(window=window_size).mean()\n",
    "msft['mySMA'] = SMA(msft['Close'], 3)"
   ]
  },
  {
   "cell_type": "code",
   "execution_count": 8,
   "id": "b07b6855-02fb-4793-aff4-f9bfeb5f0e45",
   "metadata": {},
   "outputs": [
    {
     "data": {
      "text/html": [
       "<div>\n",
       "<style scoped>\n",
       "    .dataframe tbody tr th:only-of-type {\n",
       "        vertical-align: middle;\n",
       "    }\n",
       "\n",
       "    .dataframe tbody tr th {\n",
       "        vertical-align: top;\n",
       "    }\n",
       "\n",
       "    .dataframe thead th {\n",
       "        text-align: right;\n",
       "    }\n",
       "</style>\n",
       "<table border=\"1\" class=\"dataframe\">\n",
       "  <thead>\n",
       "    <tr style=\"text-align: right;\">\n",
       "      <th></th>\n",
       "      <th>Open</th>\n",
       "      <th>High</th>\n",
       "      <th>Low</th>\n",
       "      <th>Close</th>\n",
       "      <th>Adj Close</th>\n",
       "      <th>Volume</th>\n",
       "      <th>SMA</th>\n",
       "      <th>mySMA</th>\n",
       "    </tr>\n",
       "    <tr>\n",
       "      <th>Date</th>\n",
       "      <th></th>\n",
       "      <th></th>\n",
       "      <th></th>\n",
       "      <th></th>\n",
       "      <th></th>\n",
       "      <th></th>\n",
       "      <th></th>\n",
       "      <th></th>\n",
       "    </tr>\n",
       "  </thead>\n",
       "  <tbody>\n",
       "    <tr>\n",
       "      <th>2023-12-01</th>\n",
       "      <td>376.760010</td>\n",
       "      <td>378.160004</td>\n",
       "      <td>371.309998</td>\n",
       "      <td>374.510010</td>\n",
       "      <td>374.510010</td>\n",
       "      <td>33020400</td>\n",
       "      <td>377.423340</td>\n",
       "      <td>377.423340</td>\n",
       "    </tr>\n",
       "    <tr>\n",
       "      <th>2023-12-04</th>\n",
       "      <td>369.100006</td>\n",
       "      <td>369.519989</td>\n",
       "      <td>362.899994</td>\n",
       "      <td>369.140015</td>\n",
       "      <td>369.140015</td>\n",
       "      <td>32063300</td>\n",
       "      <td>374.186676</td>\n",
       "      <td>374.186676</td>\n",
       "    </tr>\n",
       "    <tr>\n",
       "      <th>2023-12-05</th>\n",
       "      <td>366.450012</td>\n",
       "      <td>373.079987</td>\n",
       "      <td>365.619995</td>\n",
       "      <td>372.519989</td>\n",
       "      <td>372.519989</td>\n",
       "      <td>23065000</td>\n",
       "      <td>372.056671</td>\n",
       "      <td>372.056671</td>\n",
       "    </tr>\n",
       "    <tr>\n",
       "      <th>2023-12-06</th>\n",
       "      <td>373.540009</td>\n",
       "      <td>374.179993</td>\n",
       "      <td>368.029999</td>\n",
       "      <td>368.799988</td>\n",
       "      <td>368.799988</td>\n",
       "      <td>21182100</td>\n",
       "      <td>370.153330</td>\n",
       "      <td>370.153330</td>\n",
       "    </tr>\n",
       "    <tr>\n",
       "      <th>2023-12-07</th>\n",
       "      <td>368.230011</td>\n",
       "      <td>371.450012</td>\n",
       "      <td>366.320007</td>\n",
       "      <td>370.950012</td>\n",
       "      <td>370.950012</td>\n",
       "      <td>23099800</td>\n",
       "      <td>370.756663</td>\n",
       "      <td>370.756663</td>\n",
       "    </tr>\n",
       "  </tbody>\n",
       "</table>\n",
       "</div>"
      ],
      "text/plain": [
       "                  Open        High         Low       Close   Adj Close  \\\n",
       "Date                                                                     \n",
       "2023-12-01  376.760010  378.160004  371.309998  374.510010  374.510010   \n",
       "2023-12-04  369.100006  369.519989  362.899994  369.140015  369.140015   \n",
       "2023-12-05  366.450012  373.079987  365.619995  372.519989  372.519989   \n",
       "2023-12-06  373.540009  374.179993  368.029999  368.799988  368.799988   \n",
       "2023-12-07  368.230011  371.450012  366.320007  370.950012  370.950012   \n",
       "\n",
       "              Volume         SMA       mySMA  \n",
       "Date                                          \n",
       "2023-12-01  33020400  377.423340  377.423340  \n",
       "2023-12-04  32063300  374.186676  374.186676  \n",
       "2023-12-05  23065000  372.056671  372.056671  \n",
       "2023-12-06  21182100  370.153330  370.153330  \n",
       "2023-12-07  23099800  370.756663  370.756663  "
      ]
     },
     "execution_count": 8,
     "metadata": {},
     "output_type": "execute_result"
    }
   ],
   "source": [
    "msft.tail(5)"
   ]
  },
  {
   "cell_type": "code",
   "execution_count": 10,
   "id": "c9a6db2a-4fe2-4034-a8e6-6bc4cf30c672",
   "metadata": {},
   "outputs": [
    {
     "data": {
      "image/png": "[encoded data removed]",
      "text/plain": [
       "<Figure size 1000x600 with 1 Axes>"
      ]
     },
     "metadata": {},
     "output_type": "display_data"
    }
   ],
   "source": [
    "# Plotting\n",
    "plt.figure(figsize=(10, 6))\n",
    "plt.plot(msft.index, msft['Close'], label='Close', marker='o')\n",
    "plt.plot(msft.index, msft['mySMA'], label='SMA', linestyle='--', marker='o')\n",
    "plt.title('Stock Price with Simple Moving Average (SMA)')\n",
    "plt.xlabel('Date')\n",
    "plt.ylabel('Price')\n",
    "plt.legend()\n",
    "plt.show()"
   ]
  },
  {
   "cell_type": "code",
   "execution_count": null,
   "id": "d789de9d-1313-441d-bc68-9b3ad2242cd0",
   "metadata": {},
   "outputs": [],
   "source": []
  }
 ],
 "metadata": {
  "kernelspec": {
   "display_name": "Python 3 (ipykernel)",
   "language": "python",
   "name": "python3"
  },
  "language_info": {
   "codemirror_mode": {
    "name": "ipython",
    "version": 3
   },
   "file_extension": ".py",
   "mimetype": "text/x-python",
   "name": "python",
   "nbconvert_exporter": "python",
   "pygments_lexer": "ipython3",
   "version": "3.11.6"
  }
 },
 "nbformat": 4,
 "nbformat_minor": 5
}

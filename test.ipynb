{
 "cells": [
  {
   "cell_type": "markdown",
   "id": "ce9cef75-bb5e-47b3-b289-096f12d23e89",
   "metadata": {},
   "source": [
    "# Basic Analysis\n",
    "\n",
    "## Import Libraries"
   ]
  },
  {
   "cell_type": "code",
   "execution_count": 1,
   "id": "459e6ce9-9382-4ced-9142-63d16932054e",
   "metadata": {},
   "outputs": [],
   "source": [
    "# Custom imports\n",
    "from statisco.statistics import closingReturns, mean, variance, stdDev, covariance, correlation\n",
    "import matplotlib.pyplot as plt\n",
    "\n",
    "# Foreing Libraries\n",
    "import yfinance as yf\n",
    "import numpy as np\n",
    "import math\n",
    "import pandas as pd\n",
    "\n",
    "plt.style.use('dark_background')"
   ]
  },
  {
   "cell_type": "code",
   "execution_count": 2,
   "id": "e333bead-7bf7-4700-a630-f403b5840e82",
   "metadata": {},
   "outputs": [
    {
     "name": "stdout",
     "output_type": "stream",
     "text": [
      "[*********************100%%**********************]  1 of 1 completed\n",
      "[*********************100%%**********************]  1 of 1 completed\n"
     ]
    }
   ],
   "source": [
    "msft = yf.download(\"MSFT\", period=\"1mo\")\n",
    "aapl = yf.download(\"AAPL\", period=\"1mo\")"
   ]
  },
  {
   "cell_type": "code",
   "execution_count": 3,
   "id": "5a6b5511-f345-4fb2-a08b-982c8511a187",
   "metadata": {},
   "outputs": [
    {
     "data": {
      "text/html": [
       "<div>\n",
       "<style scoped>\n",
       "    .dataframe tbody tr th:only-of-type {\n",
       "        vertical-align: middle;\n",
       "    }\n",
       "\n",
       "    .dataframe tbody tr th {\n",
       "        vertical-align: top;\n",
       "    }\n",
       "\n",
       "    .dataframe thead th {\n",
       "        text-align: right;\n",
       "    }\n",
       "</style>\n",
       "<table border=\"1\" class=\"dataframe\">\n",
       "  <thead>\n",
       "    <tr style=\"text-align: right;\">\n",
       "      <th></th>\n",
       "      <th>Open</th>\n",
       "      <th>High</th>\n",
       "      <th>Low</th>\n",
       "      <th>Close</th>\n",
       "      <th>Adj Close</th>\n",
       "      <th>Volume</th>\n",
       "    </tr>\n",
       "    <tr>\n",
       "      <th>Date</th>\n",
       "      <th></th>\n",
       "      <th></th>\n",
       "      <th></th>\n",
       "      <th></th>\n",
       "      <th></th>\n",
       "      <th></th>\n",
       "    </tr>\n",
       "  </thead>\n",
       "  <tbody>\n",
       "    <tr>\n",
       "      <th>2023-12-18</th>\n",
       "      <td>369.450012</td>\n",
       "      <td>373.000000</td>\n",
       "      <td>368.679993</td>\n",
       "      <td>372.649994</td>\n",
       "      <td>372.649994</td>\n",
       "      <td>21802900</td>\n",
       "    </tr>\n",
       "    <tr>\n",
       "      <th>2023-12-19</th>\n",
       "      <td>371.489990</td>\n",
       "      <td>373.260010</td>\n",
       "      <td>369.839996</td>\n",
       "      <td>373.260010</td>\n",
       "      <td>373.260010</td>\n",
       "      <td>20603700</td>\n",
       "    </tr>\n",
       "    <tr>\n",
       "      <th>2023-12-20</th>\n",
       "      <td>375.000000</td>\n",
       "      <td>376.029999</td>\n",
       "      <td>370.529999</td>\n",
       "      <td>370.619995</td>\n",
       "      <td>370.619995</td>\n",
       "      <td>26316700</td>\n",
       "    </tr>\n",
       "    <tr>\n",
       "      <th>2023-12-21</th>\n",
       "      <td>372.559998</td>\n",
       "      <td>374.410004</td>\n",
       "      <td>370.040009</td>\n",
       "      <td>373.540009</td>\n",
       "      <td>373.540009</td>\n",
       "      <td>17708000</td>\n",
       "    </tr>\n",
       "    <tr>\n",
       "      <th>2023-12-22</th>\n",
       "      <td>373.679993</td>\n",
       "      <td>375.179993</td>\n",
       "      <td>372.709991</td>\n",
       "      <td>374.579987</td>\n",
       "      <td>374.579987</td>\n",
       "      <td>17091100</td>\n",
       "    </tr>\n",
       "  </tbody>\n",
       "</table>\n",
       "</div>"
      ],
      "text/plain": [
       "                  Open        High         Low       Close   Adj Close  \\\n",
       "Date                                                                     \n",
       "2023-12-18  369.450012  373.000000  368.679993  372.649994  372.649994   \n",
       "2023-12-19  371.489990  373.260010  369.839996  373.260010  373.260010   \n",
       "2023-12-20  375.000000  376.029999  370.529999  370.619995  370.619995   \n",
       "2023-12-21  372.559998  374.410004  370.040009  373.540009  373.540009   \n",
       "2023-12-22  373.679993  375.179993  372.709991  374.579987  374.579987   \n",
       "\n",
       "              Volume  \n",
       "Date                  \n",
       "2023-12-18  21802900  \n",
       "2023-12-19  20603700  \n",
       "2023-12-20  26316700  \n",
       "2023-12-21  17708000  \n",
       "2023-12-22  17091100  "
      ]
     },
     "execution_count": 3,
     "metadata": {},
     "output_type": "execute_result"
    }
   ],
   "source": [
    "msft.head(5)"
   ]
  },
  {
   "cell_type": "markdown",
   "id": "a2a14d3a-bf2b-4a0e-9e47-9614f4f6bd38",
   "metadata": {},
   "source": [
    "## Statistics"
   ]
  },
  {
   "cell_type": "markdown",
   "id": "38e9f105-8214-43e8-b624-c6e9b16b4dbb",
   "metadata": {},
   "source": [
    "### Close Returns"
   ]
  },
  {
   "cell_type": "code",
   "execution_count": 4,
   "id": "013b2042-dff7-4f00-9102-b79ede43d9da",
   "metadata": {},
   "outputs": [],
   "source": [
    "msft[\"MyCloseReturns\"] = closingReturns(msft[\"Adj Close\"])"
   ]
  },
  {
   "cell_type": "code",
   "execution_count": 5,
   "id": "314560ec-60aa-4aba-9516-09310ea0d799",
   "metadata": {},
   "outputs": [],
   "source": [
    "aapl[\"MyCloseReturns\"] = closingReturns(aapl[\"Adj Close\"])"
   ]
  },
  {
   "cell_type": "code",
   "execution_count": 6,
   "id": "b87d05c7-126b-4f62-9911-aadfba4e61e7",
   "metadata": {},
   "outputs": [],
   "source": [
    "msft[\"CloseReturns\"] = msft[\"Adj Close\"].pct_change()"
   ]
  },
  {
   "cell_type": "code",
   "execution_count": 7,
   "id": "19d6ebfb-12fa-46e1-a7ea-86cbeab4d8e5",
   "metadata": {},
   "outputs": [
    {
     "data": {
      "text/html": [
       "<div>\n",
       "<style scoped>\n",
       "    .dataframe tbody tr th:only-of-type {\n",
       "        vertical-align: middle;\n",
       "    }\n",
       "\n",
       "    .dataframe tbody tr th {\n",
       "        vertical-align: top;\n",
       "    }\n",
       "\n",
       "    .dataframe thead th {\n",
       "        text-align: right;\n",
       "    }\n",
       "</style>\n",
       "<table border=\"1\" class=\"dataframe\">\n",
       "  <thead>\n",
       "    <tr style=\"text-align: right;\">\n",
       "      <th></th>\n",
       "      <th>Open</th>\n",
       "      <th>High</th>\n",
       "      <th>Low</th>\n",
       "      <th>Close</th>\n",
       "      <th>Adj Close</th>\n",
       "      <th>Volume</th>\n",
       "      <th>MyCloseReturns</th>\n",
       "      <th>CloseReturns</th>\n",
       "    </tr>\n",
       "    <tr>\n",
       "      <th>Date</th>\n",
       "      <th></th>\n",
       "      <th></th>\n",
       "      <th></th>\n",
       "      <th></th>\n",
       "      <th></th>\n",
       "      <th></th>\n",
       "      <th></th>\n",
       "      <th></th>\n",
       "    </tr>\n",
       "  </thead>\n",
       "  <tbody>\n",
       "    <tr>\n",
       "      <th>2023-12-18</th>\n",
       "      <td>369.450012</td>\n",
       "      <td>373.000000</td>\n",
       "      <td>368.679993</td>\n",
       "      <td>372.649994</td>\n",
       "      <td>372.649994</td>\n",
       "      <td>21802900</td>\n",
       "      <td>0.000000</td>\n",
       "      <td>NaN</td>\n",
       "    </tr>\n",
       "    <tr>\n",
       "      <th>2023-12-19</th>\n",
       "      <td>371.489990</td>\n",
       "      <td>373.260010</td>\n",
       "      <td>369.839996</td>\n",
       "      <td>373.260010</td>\n",
       "      <td>373.260010</td>\n",
       "      <td>20603700</td>\n",
       "      <td>0.001637</td>\n",
       "      <td>0.001637</td>\n",
       "    </tr>\n",
       "    <tr>\n",
       "      <th>2023-12-20</th>\n",
       "      <td>375.000000</td>\n",
       "      <td>376.029999</td>\n",
       "      <td>370.529999</td>\n",
       "      <td>370.619995</td>\n",
       "      <td>370.619995</td>\n",
       "      <td>26316700</td>\n",
       "      <td>-0.007073</td>\n",
       "      <td>-0.007073</td>\n",
       "    </tr>\n",
       "    <tr>\n",
       "      <th>2023-12-21</th>\n",
       "      <td>372.559998</td>\n",
       "      <td>374.410004</td>\n",
       "      <td>370.040009</td>\n",
       "      <td>373.540009</td>\n",
       "      <td>373.540009</td>\n",
       "      <td>17708000</td>\n",
       "      <td>0.007879</td>\n",
       "      <td>0.007879</td>\n",
       "    </tr>\n",
       "    <tr>\n",
       "      <th>2023-12-22</th>\n",
       "      <td>373.679993</td>\n",
       "      <td>375.179993</td>\n",
       "      <td>372.709991</td>\n",
       "      <td>374.579987</td>\n",
       "      <td>374.579987</td>\n",
       "      <td>17091100</td>\n",
       "      <td>0.002784</td>\n",
       "      <td>0.002784</td>\n",
       "    </tr>\n",
       "  </tbody>\n",
       "</table>\n",
       "</div>"
      ],
      "text/plain": [
       "                  Open        High         Low       Close   Adj Close  \\\n",
       "Date                                                                     \n",
       "2023-12-18  369.450012  373.000000  368.679993  372.649994  372.649994   \n",
       "2023-12-19  371.489990  373.260010  369.839996  373.260010  373.260010   \n",
       "2023-12-20  375.000000  376.029999  370.529999  370.619995  370.619995   \n",
       "2023-12-21  372.559998  374.410004  370.040009  373.540009  373.540009   \n",
       "2023-12-22  373.679993  375.179993  372.709991  374.579987  374.579987   \n",
       "\n",
       "              Volume  MyCloseReturns  CloseReturns  \n",
       "Date                                                \n",
       "2023-12-18  21802900        0.000000           NaN  \n",
       "2023-12-19  20603700        0.001637      0.001637  \n",
       "2023-12-20  26316700       -0.007073     -0.007073  \n",
       "2023-12-21  17708000        0.007879      0.007879  \n",
       "2023-12-22  17091100        0.002784      0.002784  "
      ]
     },
     "execution_count": 7,
     "metadata": {},
     "output_type": "execute_result"
    }
   ],
   "source": [
    "msft.head()"
   ]
  },
  {
   "cell_type": "markdown",
   "id": "3c58f936-59f2-4484-ac9f-9f77345d5c54",
   "metadata": {},
   "source": [
    "### Mean"
   ]
  },
  {
   "cell_type": "code",
   "execution_count": 8,
   "id": "a5a3270b-b61f-46ad-8153-8d2857bb9ff5",
   "metadata": {},
   "outputs": [
    {
     "name": "stdout",
     "output_type": "stream",
     "text": [
      "default pandas mean: 0.002219977152614227\n",
      "myMean: 0.002219977152614227\n"
     ]
    }
   ],
   "source": [
    "defaultMean = msft[\"MyCloseReturns\"].mean()\n",
    "myMean = mean(msft[\"MyCloseReturns\"])\n",
    "myMeanAapl = mean(aapl[\"MyCloseReturns\"])\n",
    "\n",
    "print(f\"default pandas mean: {defaultMean}\")\n",
    "print(f\"myMean: {myMean}\")"
   ]
  },
  {
   "cell_type": "markdown",
   "id": "9705213e-55fc-4f74-8864-46441880e056",
   "metadata": {},
   "source": [
    "### Variance"
   ]
  },
  {
   "cell_type": "code",
   "execution_count": 9,
   "id": "815a8d31-99ec-401e-83b0-91519ece3d53",
   "metadata": {},
   "outputs": [
    {
     "name": "stdout",
     "output_type": "stream",
     "text": [
      "default numpy variance: 5.8966217487086904e-05\n",
      "myMean: 5.896621748708689e-05\n"
     ]
    }
   ],
   "source": [
    "defaultVariance = np.var(msft[\"MyCloseReturns\"])\n",
    "myVariance = variance(msft[\"MyCloseReturns\"], myMean)\n",
    "myVarianceAapl = variance(aapl[\"MyCloseReturns\"], myMeanAapl)\n",
    "\n",
    "print(f\"default numpy variance: {defaultVariance}\")\n",
    "print(f\"myMean: {myVariance}\")"
   ]
  },
  {
   "cell_type": "markdown",
   "id": "0d6f6bc3-ac98-485b-b676-5343a870e1f3",
   "metadata": {},
   "source": [
    "### Std Dev"
   ]
  },
  {
   "cell_type": "code",
   "execution_count": 10,
   "id": "9212d246-a269-4887-ad44-17eae2618a4f",
   "metadata": {},
   "outputs": [
    {
     "name": "stdout",
     "output_type": "stream",
     "text": [
      "default numpy std dev: 0.007889367430826869\n",
      "myStandardDeviation: 0.0076789463787089235\n"
     ]
    }
   ],
   "source": [
    "defaultStandardDeviation = msft[\"MyCloseReturns\"].std()\n",
    "myStandardDeviation = stdDev(msft[\"MyCloseReturns\"], myMean)\n",
    "myStandardDeviationAapl = stdDev(aapl[\"MyCloseReturns\"], myMeanAapl)\n",
    "\n",
    "print(f\"default numpy std dev: {defaultStandardDeviation}\")\n",
    "print(f\"myStandardDeviation: {myStandardDeviation}\")"
   ]
  },
  {
   "cell_type": "markdown",
   "id": "bb02ab29-4be0-4231-857d-36ff5d7eb4d1",
   "metadata": {},
   "source": [
    "### Covariance"
   ]
  },
  {
   "cell_type": "code",
   "execution_count": 11,
   "id": "6b1cee92-e814-4aff-8f52-5f491d8894aa",
   "metadata": {},
   "outputs": [
    {
     "name": "stdout",
     "output_type": "stream",
     "text": [
      "defualt covariance: 7.326917668366259e-05\n",
      "myCovariance: 7.326917668366259e-05\n"
     ]
    }
   ],
   "source": [
    "covariance_matrix = np.cov(msft[\"MyCloseReturns\"], aapl[\"MyCloseReturns\"])\n",
    "covariance_value = covariance_matrix[0, 1]\n",
    "\n",
    "myCovariance = covariance(msft[\"MyCloseReturns\"], myMean, aapl[\"MyCloseReturns\"], myMeanAapl)\n",
    "\n",
    "print(f\"defualt covariance: {covariance_value}\")\n",
    "print(f\"myCovariance: {myCovariance}\")"
   ]
  },
  {
   "cell_type": "markdown",
   "id": "7840700c-f653-456f-b2e4-840421a0f1b3",
   "metadata": {},
   "source": [
    "### Correlation"
   ]
  },
  {
   "cell_type": "code",
   "execution_count": 12,
   "id": "36b9e0d9-b9d1-44dd-8fa8-8be9222294fb",
   "metadata": {},
   "outputs": [],
   "source": [
    "correlation_coefficient = np.corrcoef(msft[\"MyCloseReturns\"], aapl[\"MyCloseReturns\"])[0, 1]\n",
    "myCorrelation = correlation(myCovariance, myVariance, myVarianceAapl)"
   ]
  },
  {
   "cell_type": "code",
   "execution_count": 13,
   "id": "ddff4f5a-5d41-427c-b18d-bf131f4bf1ad",
   "metadata": {},
   "outputs": [
    {
     "name": "stdout",
     "output_type": "stream",
     "text": [
      "defualt correlation: 0.834398267264059\n",
      "myCorrelation: 0.8807537265565067\n"
     ]
    }
   ],
   "source": [
    "print(f\"defualt correlation: {correlation_coefficient}\")\n",
    "print(f\"myCorrelation: {myCorrelation}\")"
   ]
  },
  {
   "cell_type": "markdown",
   "id": "ec3df93d-0eeb-4e4c-9bdd-97917590f377",
   "metadata": {},
   "source": [
    "## Financial Calculations"
   ]
  },
  {
   "cell_type": "code",
   "execution_count": 14,
   "id": "ce6b73bb-843f-414e-b297-c2676b8bb6fa",
   "metadata": {},
   "outputs": [],
   "source": [
    "from statisco.finance import compoundInterest, moneyMadeInAYear, compoundInterestTime, expectedValue"
   ]
  },
  {
   "cell_type": "markdown",
   "id": "3e7e20d0-83a5-4b46-861d-af1bd6aaff68",
   "metadata": {},
   "source": [
    "### Compound Interest\n",
    "- **Principal**: Initial amount of money invested or loaned.\n",
    "- **Interest Rate**: The percentage of the principal that is charged or paid over a certain period. An interest rate of 5% means that 5% of the principal will be added to or deducted from the principal each period.\n",
    "- **Time Period**: Duration for which the money is invested or borrowed."
   ]
  },
  {
   "cell_type": "code",
   "execution_count": 15,
   "id": "5dd7e87f-abbc-44c3-b331-eb3f74403294",
   "metadata": {},
   "outputs": [],
   "source": [
    "def compound_interest(principal, interest_rate, time_period):\n",
    "    # Check if the inputs are valid\n",
    "    if time_period < 0:\n",
    "        raise ValueError(\"Time cannot be negative.\")\n",
    "    \n",
    "    # Calculate compound interest using the formula A = P * (1 + r)^t\n",
    "    future_value = principal * (1 + interest_rate) ** time_period\n",
    "    return future_value"
   ]
  },
  {
   "cell_type": "code",
   "execution_count": 16,
   "id": "d481ac8f-431f-49cb-93d1-48c6857de2ce",
   "metadata": {},
   "outputs": [
    {
     "name": "stdout",
     "output_type": "stream",
     "text": [
      "compound interest: 1102.5\n",
      "default compound interest: 1102.5\n"
     ]
    }
   ],
   "source": [
    "principal = 1000.0\n",
    "itr = 0.05\n",
    "t = 2.0\n",
    "cmpi = compoundInterest(principal, itr, t)\n",
    "default_cmpi = compound_interest(principal, itr, t)\n",
    "print(f\"compound interest: {cmpi}\")\n",
    "print(f\"default compound interest: {default_cmpi}\")"
   ]
  },
  {
   "cell_type": "markdown",
   "id": "527b4ea7-4d1c-4289-98f8-d9ec2b764cfb",
   "metadata": {},
   "source": [
    "### Money Made in a Year"
   ]
  },
  {
   "cell_type": "code",
   "execution_count": 17,
   "id": "abf2e0a3-b5ce-4284-a2ad-e042317384e0",
   "metadata": {},
   "outputs": [
    {
     "name": "stdout",
     "output_type": "stream",
     "text": [
      "Money Made in a Year: 55.125\n",
      "default money made in a year: 55.125\n"
     ]
    }
   ],
   "source": [
    "def money_made_in_a_year(P_t, r_t, t_t):\n",
    "    return r_t * (P_t * (1 + r_t) ** t_t)\n",
    "\n",
    "principal = 1000.0\n",
    "interest_rate = 0.05\n",
    "time_period = 2.0\n",
    "\n",
    "mmiay = moneyMadeInAYear(principal, itr, t)\n",
    "default_mmiay = money_made_in_a_year(principal, itr, t)\n",
    "print(f\"Money Made in a Year: {mmiay}\")\n",
    "print(f\"default money made in a year: {default_mmiay}\")"
   ]
  },
  {
   "cell_type": "markdown",
   "id": "142e1495-98c9-46fa-8190-d3089cd77895",
   "metadata": {},
   "source": [
    "### Compound Interest"
   ]
  },
  {
   "cell_type": "code",
   "execution_count": 18,
   "id": "5e0ccffe-35db-46c7-8c71-36f8c01031f9",
   "metadata": {},
   "outputs": [
    {
     "name": "stdout",
     "output_type": "stream",
     "text": [
      "Default compound interest time: 61.40033190195481 years\n",
      "cmpt: 61.40033190195481 years\n"
     ]
    }
   ],
   "source": [
    "def compound_interest_time(r_t):\n",
    "    \"\"\"\n",
    "    Calculate the time it takes for compound interest to reach a factor.\n",
    "    \"\"\"\n",
    "    return -math.log(r_t) / math.log(1 + r_t)\n",
    "\n",
    "interest_rate = 0.05  # Example interest rate (5%)\n",
    "compound_time = compound_interest_time(interest_rate)\n",
    "cmpt = compoundInterestTime(interest_rate)\n",
    "\n",
    "print(f\"Default compound interest time: {compound_time} years\")\n",
    "print(f\"cmpt: {cmpt} years\")"
   ]
  },
  {
   "cell_type": "markdown",
   "id": "535f5419-33c0-4a81-9e95-1f795b270428",
   "metadata": {},
   "source": [
    "### Expected Value"
   ]
  },
  {
   "cell_type": "code",
   "execution_count": 19,
   "id": "42530907-9636-4634-a845-b8dda724261c",
   "metadata": {},
   "outputs": [
    {
     "name": "stdout",
     "output_type": "stream",
     "text": [
      "Default expected value: 11.0 \n",
      "expected value: 11.0\n"
     ]
    }
   ],
   "source": [
    "def expected_value(avg_loss, prob_loss, avg_gain, prob_gain):return (avg_loss * prob_loss) + (avg_gain * prob_gain)\n",
    "\n",
    "# Example usage:\n",
    "avg_loss = -10.0   # Average loss amount\n",
    "prob_loss = 0.3    # Probability of a loss\n",
    "avg_gain = 20.0    # Average gain amount\n",
    "prob_gain = 0.7    # Probability of a gain\n",
    "\n",
    "defaultEV = expected_value(avg_loss, prob_loss, avg_gain, prob_gain)\n",
    "EV = expectedValue(avg_loss, prob_loss, avg_gain, prob_gain)\n",
    "print(f\"Default expected value: {defaultEV} \")\n",
    "print(f\"expected value: {EV}\")"
   ]
  },
  {
   "cell_type": "markdown",
   "id": "6b4e9283-3b0e-4c3a-b7c9-92b931c0a048",
   "metadata": {},
   "source": [
    "## Indicators"
   ]
  },
  {
   "cell_type": "code",
   "execution_count": 20,
   "id": "6f5f51d9-cc19-4dc1-9336-c26f9e46e50d",
   "metadata": {},
   "outputs": [],
   "source": [
    "from statisco.indicators.MAs import SMA, EMA, WMA\n",
    "from statisco.indicators.ATRs import ATR, ATRwma, ATRema"
   ]
  },
  {
   "cell_type": "markdown",
   "id": "38c336b9-1234-4346-872c-253706ba9421",
   "metadata": {},
   "source": [
    "### SMA"
   ]
  },
  {
   "cell_type": "code",
   "execution_count": 21,
   "id": "40fdb01a-d5ea-490f-a0c9-7c895c0798b0",
   "metadata": {},
   "outputs": [],
   "source": [
    "def calculate_sma(data, window):\n",
    "    sma = np.convolve(data, np.ones(window)/window, mode='valid')\n",
    "    return sma"
   ]
  },
  {
   "cell_type": "code",
   "execution_count": 22,
   "id": "cabe670b-426d-42d0-87de-01561877a020",
   "metadata": {},
   "outputs": [],
   "source": [
    "window_size = 3\n",
    "msft['SMA'] = msft['Close'].rolling(window=window_size).mean()\n",
    "msft['mySMA'] = SMA(msft['Close'], 3)"
   ]
  },
  {
   "cell_type": "code",
   "execution_count": 23,
   "id": "b07b6855-02fb-4793-aff4-f9bfeb5f0e45",
   "metadata": {},
   "outputs": [
    {
     "data": {
      "text/html": [
       "<div>\n",
       "<style scoped>\n",
       "    .dataframe tbody tr th:only-of-type {\n",
       "        vertical-align: middle;\n",
       "    }\n",
       "\n",
       "    .dataframe tbody tr th {\n",
       "        vertical-align: top;\n",
       "    }\n",
       "\n",
       "    .dataframe thead th {\n",
       "        text-align: right;\n",
       "    }\n",
       "</style>\n",
       "<table border=\"1\" class=\"dataframe\">\n",
       "  <thead>\n",
       "    <tr style=\"text-align: right;\">\n",
       "      <th></th>\n",
       "      <th>Open</th>\n",
       "      <th>High</th>\n",
       "      <th>Low</th>\n",
       "      <th>Close</th>\n",
       "      <th>Adj Close</th>\n",
       "      <th>Volume</th>\n",
       "      <th>MyCloseReturns</th>\n",
       "      <th>CloseReturns</th>\n",
       "      <th>SMA</th>\n",
       "      <th>mySMA</th>\n",
       "    </tr>\n",
       "    <tr>\n",
       "      <th>Date</th>\n",
       "      <th></th>\n",
       "      <th></th>\n",
       "      <th></th>\n",
       "      <th></th>\n",
       "      <th></th>\n",
       "      <th></th>\n",
       "      <th></th>\n",
       "      <th></th>\n",
       "      <th></th>\n",
       "      <th></th>\n",
       "    </tr>\n",
       "  </thead>\n",
       "  <tbody>\n",
       "    <tr>\n",
       "      <th>2024-01-09</th>\n",
       "      <td>372.010010</td>\n",
       "      <td>375.989990</td>\n",
       "      <td>371.190002</td>\n",
       "      <td>375.790009</td>\n",
       "      <td>375.790009</td>\n",
       "      <td>20830000</td>\n",
       "      <td>0.002936</td>\n",
       "      <td>0.002936</td>\n",
       "      <td>372.743337</td>\n",
       "      <td>372.743337</td>\n",
       "    </tr>\n",
       "    <tr>\n",
       "      <th>2024-01-10</th>\n",
       "      <td>376.369995</td>\n",
       "      <td>384.170013</td>\n",
       "      <td>376.320007</td>\n",
       "      <td>382.769989</td>\n",
       "      <td>382.769989</td>\n",
       "      <td>25514200</td>\n",
       "      <td>0.018574</td>\n",
       "      <td>0.018574</td>\n",
       "      <td>377.750000</td>\n",
       "      <td>377.750000</td>\n",
       "    </tr>\n",
       "    <tr>\n",
       "      <th>2024-01-11</th>\n",
       "      <td>386.000000</td>\n",
       "      <td>390.679993</td>\n",
       "      <td>380.380005</td>\n",
       "      <td>384.630005</td>\n",
       "      <td>384.630005</td>\n",
       "      <td>27850800</td>\n",
       "      <td>0.004859</td>\n",
       "      <td>0.004859</td>\n",
       "      <td>381.063334</td>\n",
       "      <td>381.063334</td>\n",
       "    </tr>\n",
       "    <tr>\n",
       "      <th>2024-01-12</th>\n",
       "      <td>385.489990</td>\n",
       "      <td>388.679993</td>\n",
       "      <td>384.649994</td>\n",
       "      <td>388.470001</td>\n",
       "      <td>388.470001</td>\n",
       "      <td>21645700</td>\n",
       "      <td>0.009984</td>\n",
       "      <td>0.009984</td>\n",
       "      <td>385.289998</td>\n",
       "      <td>385.289998</td>\n",
       "    </tr>\n",
       "    <tr>\n",
       "      <th>2024-01-16</th>\n",
       "      <td>393.660004</td>\n",
       "      <td>394.029999</td>\n",
       "      <td>387.622894</td>\n",
       "      <td>390.269989</td>\n",
       "      <td>390.269989</td>\n",
       "      <td>27135918</td>\n",
       "      <td>0.000000</td>\n",
       "      <td>0.004634</td>\n",
       "      <td>387.789998</td>\n",
       "      <td>387.789998</td>\n",
       "    </tr>\n",
       "  </tbody>\n",
       "</table>\n",
       "</div>"
      ],
      "text/plain": [
       "                  Open        High         Low       Close   Adj Close  \\\n",
       "Date                                                                     \n",
       "2024-01-09  372.010010  375.989990  371.190002  375.790009  375.790009   \n",
       "2024-01-10  376.369995  384.170013  376.320007  382.769989  382.769989   \n",
       "2024-01-11  386.000000  390.679993  380.380005  384.630005  384.630005   \n",
       "2024-01-12  385.489990  388.679993  384.649994  388.470001  388.470001   \n",
       "2024-01-16  393.660004  394.029999  387.622894  390.269989  390.269989   \n",
       "\n",
       "              Volume  MyCloseReturns  CloseReturns         SMA       mySMA  \n",
       "Date                                                                        \n",
       "2024-01-09  20830000        0.002936      0.002936  372.743337  372.743337  \n",
       "2024-01-10  25514200        0.018574      0.018574  377.750000  377.750000  \n",
       "2024-01-11  27850800        0.004859      0.004859  381.063334  381.063334  \n",
       "2024-01-12  21645700        0.009984      0.009984  385.289998  385.289998  \n",
       "2024-01-16  27135918        0.000000      0.004634  387.789998  387.789998  "
      ]
     },
     "execution_count": 23,
     "metadata": {},
     "output_type": "execute_result"
    }
   ],
   "source": [
    "msft.tail(5)"
   ]
  },
  {
   "cell_type": "code",
   "execution_count": 24,
   "id": "c9a6db2a-4fe2-4034-a8e6-6bc4cf30c672",
   "metadata": {},
   "outputs": [
    {
     "data": {
      "image/png": "[encoded data removed]",
      "text/plain": [
       "<Figure size 2200x600 with 1 Axes>"
      ]
     },
     "metadata": {},
     "output_type": "display_data"
    }
   ],
   "source": [
    "# Plotting\n",
    "plt.figure(figsize=(22, 6))\n",
    "plt.plot(msft.index, msft['Close'], label='Close', marker='o')\n",
    "plt.plot(msft.index, msft['mySMA'], label='SMA', linestyle='--', marker='o')\n",
    "plt.title('Stock Price with Simple Moving Average (SMA)')\n",
    "plt.xlabel('Date')\n",
    "plt.ylabel('Price')\n",
    "plt.legend()\n",
    "plt.show()"
   ]
  },
  {
   "cell_type": "markdown",
   "id": "d1b0f735-760b-4a9d-a999-99cee827152e",
   "metadata": {},
   "source": [
    "### EMA"
   ]
  },
  {
   "cell_type": "code",
   "execution_count": 25,
   "id": "d789de9d-1313-441d-bc68-9b3ad2242cd0",
   "metadata": {},
   "outputs": [
    {
     "ename": "SyntaxError",
     "evalue": "invalid syntax (3338099716.py, line 1)",
     "output_type": "error",
     "traceback": [
      "\u001b[0;36m  Cell \u001b[0;32mIn[25], line 1\u001b[0;36m\u001b[0m\n\u001b[0;31m    def calculateEMA(close_prices, sma_values, smooth,atr_data[i] = sum_true_range / (i - (i - window_t + 1) + 1); window_size):\u001b[0m\n\u001b[0m                                                              ^\u001b[0m\n\u001b[0;31mSyntaxError\u001b[0m\u001b[0;31m:\u001b[0m invalid syntax\n"
     ]
    }
   ],
   "source": [
    "def calculateEMA(close_prices, sma_values, smooth,atr_data[i] = sum_true_range / (i - (i - window_t + 1) + 1); window_size):\n",
    "    multiplier = smooth / (window_size + 1)\n",
    "    ema_values = []\n",
    "\n",
    "    for i in range(0, window_size - 1):\n",
    "        ema_values.append(0)\n",
    "\n",
    "    first = True\n",
    "    for i in range(window_size - 1, len(close_prices)):\n",
    "        if first:\n",
    "            res = close_prices[i] * multiplier + sma_values[i] * (1 - multiplier)\n",
    "            first = False\n",
    "        else:\n",
    "            res = close_prices[i] * multiplier + ema_values[-1] * (1 - multiplier)\n",
    "        ema_values.append(res)\n",
    "\n",
    "    return ema_values\n",
    "\n",
    "smooth_value = 2  # You can adjust this value based on your preference\n",
    "window_size = 3  # Adjust the window size based on your requirements\n",
    "msft['EMA'] = ema_values = calculateEMA(msft['Close'], msft['mySMA'], smooth_value, window_size)\n",
    "msft['myEMA'] = EMA(msft['Close'], msft['mySMA'], window_size, smooth_value)"
   ]
  },
  {
   "cell_type": "code",
   "execution_count": null,
   "id": "5dc44666-d752-4ad8-9141-b9108b2a79ce",
   "metadata": {},
   "outputs": [],
   "source": [
    "msft.tail(5)"
   ]
  },
  {
   "cell_type": "code",
   "execution_count": null,
   "id": "26ddf351-1391-43ba-81c0-7cdf921e38f6",
   "metadata": {},
   "outputs": [],
   "source": [
    "# Plotting\n",
    "plt.figure(figsize=(22, 6))\n",
    "plt.plot(msft.index, msft['Close'], label='Close', marker='o')\n",
    "plt.plot(msft.index[3:], msft['myEMA'][3:], label='myEMA', linestyle='--', marker='o')\n",
    "plt.title('Stock Price with Simple Moving Average (SMA)')\n",
    "plt.xlabel('Date')\n",
    "plt.ylabel('Price')\n",
    "plt.legend()\n",
    "plt.show()"
   ]
  },
  {
   "cell_type": "markdown",
   "id": "cd040365-894a-47f1-86f1-de4eabf5dbd6",
   "metadata": {},
   "source": [
    "### WMA"
   ]
  },
  {
   "cell_type": "code",
   "execution_count": null,
   "id": "837dc657-157d-4b71-b426-76569df8003c",
   "metadata": {},
   "outputs": [],
   "source": [
    "def calculateWMA(df_t, numberOfDays_t):\n",
    "\t\"\"\"\n",
    "\t@brief\tCalculates the weighted moving average\n",
    "\n",
    "\t@params\tdf_t\t\t\tThis dataframe with the stocks data\n",
    "\t\t\tnumberOfDays\tthe period of days to calculate\n",
    "\t\t\t\t\t\t\tthe average\n",
    "\t\n",
    "\t@returns\ta list containing the calculated WMA\n",
    "\t\"\"\"\n",
    "\tWMA = []\n",
    "\tweight = 0\n",
    "\tfor i in range(1, numberOfDays_t+1):\n",
    "\t\tweight += i\n",
    "\tfor i in range(0, numberOfDays_t-1):\n",
    "\t\tWMA.append(0)\n",
    "\tfor i in range(numberOfDays_t, len(df_t.Close) + 1):\n",
    "\t\tsum = 0\n",
    "\t\tcounter = 1\n",
    "\t\tfor j in range(i-numberOfDays_t, i):\n",
    "\t\t\tsum += df_t.Close[j] * (counter/weight) \n",
    "\t\t\tcounter += 1\n",
    "\t\tWMA.append(sum)\n",
    "\t\n",
    "\treturn WMA\n",
    "\n",
    "msft['WMA'] = calculateWMA(msft, window_size)\n",
    "msft['myWMA'] = WMA(msft['Close'], window_size)"
   ]
  },
  {
   "cell_type": "code",
   "execution_count": null,
   "id": "7ff496cc-7581-42ee-91d4-26fa8c8bdb97",
   "metadata": {},
   "outputs": [],
   "source": [
    "print(msft.head(10))"
   ]
  },
  {
   "cell_type": "code",
   "execution_count": null,
   "id": "7f720d6b-197b-4be1-8d07-eeacaa02cb99",
   "metadata": {},
   "outputs": [],
   "source": [
    "# Plotting\n",
    "plt.figure(figsize=(22, 6))\n",
    "plt.plot(msft.index, msft['Close'], label='Close', marker='o')\n",
    "plt.plot(msft.index[3:], msft['myWMA'][3:], label='myWMA', linestyle='--', marker='o')\n",
    "plt.title('Stock Price with Simple Moving Average (SMA)')\n",
    "plt.xlabel('Date')\n",
    "plt.ylabel('Price')\n",
    "plt.legend()\n",
    "plt.show()"
   ]
  },
  {
   "cell_type": "markdown",
   "id": "8068de4a-74b4-4aa9-84de-c33c33d1e9a6",
   "metadata": {},
   "source": [
    "## ATR"
   ]
  },
  {
   "cell_type": "code",
   "execution_count": null,
   "id": "0f0a4a79-5cbe-4a86-a0c4-48c7631c4703",
   "metadata": {},
   "outputs": [],
   "source": [
    "def calculate_atr(data, period=14):\n",
    "    # Calculate True Range (TR)\n",
    "    data['High-Low'] = data['High'] - data['Low']\n",
    "    data['High-PrevClose'] = abs(data['High'] - data['Close'].shift(1))\n",
    "    data['Low-PrevClose'] = abs(data['Low'] - data['Close'].shift(1))\n",
    "\n",
    "    data['TrueRange'] = data[['High-Low', 'High-PrevClose', 'Low-PrevClose']].max(axis=1)\n",
    "\n",
    "    # Calculate ATR\n",
    "    data['ATR'] = data['TrueRange'].rolling(window=period).mean()\n",
    "\n",
    "    # Drop temporary columns\n",
    "    data = data.drop(['High-Low', 'High-PrevClose', 'Low-PrevClose', 'TrueRange'], axis=1)\n",
    "\n",
    "    return data['ATR']\n",
    "msft['ATR'] = calculate_atr(msft)\n",
    "msft['myATR'] = ATR(msft['Close'], msft['High'], msft['Low'], 14)"
   ]
  },
  {
   "cell_type": "code",
   "execution_count": null,
   "id": "18e82e3e-ffa5-4322-becb-374e133cf169",
   "metadata": {},
   "outputs": [],
   "source": [
    "print(msft.tail(8))"
   ]
  },
  {
   "cell_type": "code",
   "execution_count": 26,
   "id": "bc352512-25f0-4df0-8b3e-53fd62ff6af7",
   "metadata": {},
   "outputs": [
    {
     "ename": "KeyError",
     "evalue": "'myATR'",
     "output_type": "error",
     "traceback": [
      "\u001b[0;31m---------------------------------------------------------------------------\u001b[0m",
      "\u001b[0;31mKeyError\u001b[0m                                  Traceback (most recent call last)",
      "File \u001b[0;32m~/Coding/statisco_dir/statiscoenv/lib/python3.11/site-packages/pandas/core/indexes/base.py:3790\u001b[0m, in \u001b[0;36mIndex.get_loc\u001b[0;34m(self, key)\u001b[0m\n\u001b[1;32m   3789\u001b[0m \u001b[38;5;28;01mtry\u001b[39;00m:\n\u001b[0;32m-> 3790\u001b[0m     \u001b[38;5;28;01mreturn\u001b[39;00m \u001b[38;5;28;43mself\u001b[39;49m\u001b[38;5;241;43m.\u001b[39;49m\u001b[43m_engine\u001b[49m\u001b[38;5;241;43m.\u001b[39;49m\u001b[43mget_loc\u001b[49m\u001b[43m(\u001b[49m\u001b[43mcasted_key\u001b[49m\u001b[43m)\u001b[49m\n\u001b[1;32m   3791\u001b[0m \u001b[38;5;28;01mexcept\u001b[39;00m \u001b[38;5;167;01mKeyError\u001b[39;00m \u001b[38;5;28;01mas\u001b[39;00m err:\n",
      "File \u001b[0;32mindex.pyx:152\u001b[0m, in \u001b[0;36mpandas._libs.index.IndexEngine.get_loc\u001b[0;34m()\u001b[0m\n",
      "File \u001b[0;32mindex.pyx:181\u001b[0m, in \u001b[0;36mpandas._libs.index.IndexEngine.get_loc\u001b[0;34m()\u001b[0m\n",
      "File \u001b[0;32mpandas/_libs/hashtable_class_helper.pxi:7080\u001b[0m, in \u001b[0;36mpandas._libs.hashtable.PyObjectHashTable.get_item\u001b[0;34m()\u001b[0m\n",
      "File \u001b[0;32mpandas/_libs/hashtable_class_helper.pxi:7088\u001b[0m, in \u001b[0;36mpandas._libs.hashtable.PyObjectHashTable.get_item\u001b[0;34m()\u001b[0m\n",
      "\u001b[0;31mKeyError\u001b[0m: 'myATR'",
      "\nThe above exception was the direct cause of the following exception:\n",
      "\u001b[0;31mKeyError\u001b[0m                                  Traceback (most recent call last)",
      "Cell \u001b[0;32mIn[26], line 4\u001b[0m\n\u001b[1;32m      2\u001b[0m plt\u001b[38;5;241m.\u001b[39mfigure(figsize\u001b[38;5;241m=\u001b[39m(\u001b[38;5;241m22\u001b[39m, \u001b[38;5;241m5\u001b[39m))\n\u001b[1;32m      3\u001b[0m \u001b[38;5;66;03m# plt.plot(msft.index, msft['Close'], label='Close', marker='o')\u001b[39;00m\n\u001b[0;32m----> 4\u001b[0m plt\u001b[38;5;241m.\u001b[39mplot(msft\u001b[38;5;241m.\u001b[39mindex[\u001b[38;5;241m14\u001b[39m:], \u001b[43mmsft\u001b[49m\u001b[43m[\u001b[49m\u001b[38;5;124;43m'\u001b[39;49m\u001b[38;5;124;43mmyATR\u001b[39;49m\u001b[38;5;124;43m'\u001b[39;49m\u001b[43m]\u001b[49m[\u001b[38;5;241m14\u001b[39m:], label\u001b[38;5;241m=\u001b[39m\u001b[38;5;124m'\u001b[39m\u001b[38;5;124mmyATR\u001b[39m\u001b[38;5;124m'\u001b[39m, linestyle\u001b[38;5;241m=\u001b[39m\u001b[38;5;124m'\u001b[39m\u001b[38;5;124m--\u001b[39m\u001b[38;5;124m'\u001b[39m, marker\u001b[38;5;241m=\u001b[39m\u001b[38;5;124m'\u001b[39m\u001b[38;5;124mo\u001b[39m\u001b[38;5;124m'\u001b[39m)\n\u001b[1;32m      5\u001b[0m plt\u001b[38;5;241m.\u001b[39mplot(msft\u001b[38;5;241m.\u001b[39mindex, msft[\u001b[38;5;124m'\u001b[39m\u001b[38;5;124mATR\u001b[39m\u001b[38;5;124m'\u001b[39m], label\u001b[38;5;241m=\u001b[39m\u001b[38;5;124m'\u001b[39m\u001b[38;5;124mATR\u001b[39m\u001b[38;5;124m'\u001b[39m, linestyle\u001b[38;5;241m=\u001b[39m\u001b[38;5;124m'\u001b[39m\u001b[38;5;124m--\u001b[39m\u001b[38;5;124m'\u001b[39m, marker\u001b[38;5;241m=\u001b[39m\u001b[38;5;124m'\u001b[39m\u001b[38;5;124mo\u001b[39m\u001b[38;5;124m'\u001b[39m)\n\u001b[1;32m      6\u001b[0m plt\u001b[38;5;241m.\u001b[39mtitle(\u001b[38;5;124m'\u001b[39m\u001b[38;5;124mStock Price with Simple Moving Average (SMA)\u001b[39m\u001b[38;5;124m'\u001b[39m)\n",
      "File \u001b[0;32m~/Coding/statisco_dir/statiscoenv/lib/python3.11/site-packages/pandas/core/frame.py:3893\u001b[0m, in \u001b[0;36mDataFrame.__getitem__\u001b[0;34m(self, key)\u001b[0m\n\u001b[1;32m   3891\u001b[0m \u001b[38;5;28;01mif\u001b[39;00m \u001b[38;5;28mself\u001b[39m\u001b[38;5;241m.\u001b[39mcolumns\u001b[38;5;241m.\u001b[39mnlevels \u001b[38;5;241m>\u001b[39m \u001b[38;5;241m1\u001b[39m:\n\u001b[1;32m   3892\u001b[0m     \u001b[38;5;28;01mreturn\u001b[39;00m \u001b[38;5;28mself\u001b[39m\u001b[38;5;241m.\u001b[39m_getitem_multilevel(key)\n\u001b[0;32m-> 3893\u001b[0m indexer \u001b[38;5;241m=\u001b[39m \u001b[38;5;28;43mself\u001b[39;49m\u001b[38;5;241;43m.\u001b[39;49m\u001b[43mcolumns\u001b[49m\u001b[38;5;241;43m.\u001b[39;49m\u001b[43mget_loc\u001b[49m\u001b[43m(\u001b[49m\u001b[43mkey\u001b[49m\u001b[43m)\u001b[49m\n\u001b[1;32m   3894\u001b[0m \u001b[38;5;28;01mif\u001b[39;00m is_integer(indexer):\n\u001b[1;32m   3895\u001b[0m     indexer \u001b[38;5;241m=\u001b[39m [indexer]\n",
      "File \u001b[0;32m~/Coding/statisco_dir/statiscoenv/lib/python3.11/site-packages/pandas/core/indexes/base.py:3797\u001b[0m, in \u001b[0;36mIndex.get_loc\u001b[0;34m(self, key)\u001b[0m\n\u001b[1;32m   3792\u001b[0m     \u001b[38;5;28;01mif\u001b[39;00m \u001b[38;5;28misinstance\u001b[39m(casted_key, \u001b[38;5;28mslice\u001b[39m) \u001b[38;5;129;01mor\u001b[39;00m (\n\u001b[1;32m   3793\u001b[0m         \u001b[38;5;28misinstance\u001b[39m(casted_key, abc\u001b[38;5;241m.\u001b[39mIterable)\n\u001b[1;32m   3794\u001b[0m         \u001b[38;5;129;01mand\u001b[39;00m \u001b[38;5;28many\u001b[39m(\u001b[38;5;28misinstance\u001b[39m(x, \u001b[38;5;28mslice\u001b[39m) \u001b[38;5;28;01mfor\u001b[39;00m x \u001b[38;5;129;01min\u001b[39;00m casted_key)\n\u001b[1;32m   3795\u001b[0m     ):\n\u001b[1;32m   3796\u001b[0m         \u001b[38;5;28;01mraise\u001b[39;00m InvalidIndexError(key)\n\u001b[0;32m-> 3797\u001b[0m     \u001b[38;5;28;01mraise\u001b[39;00m \u001b[38;5;167;01mKeyError\u001b[39;00m(key) \u001b[38;5;28;01mfrom\u001b[39;00m \u001b[38;5;21;01merr\u001b[39;00m\n\u001b[1;32m   3798\u001b[0m \u001b[38;5;28;01mexcept\u001b[39;00m \u001b[38;5;167;01mTypeError\u001b[39;00m:\n\u001b[1;32m   3799\u001b[0m     \u001b[38;5;66;03m# If we have a listlike key, _check_indexing_error will raise\u001b[39;00m\n\u001b[1;32m   3800\u001b[0m     \u001b[38;5;66;03m#  InvalidIndexError. Otherwise we fall through and re-raise\u001b[39;00m\n\u001b[1;32m   3801\u001b[0m     \u001b[38;5;66;03m#  the TypeError.\u001b[39;00m\n\u001b[1;32m   3802\u001b[0m     \u001b[38;5;28mself\u001b[39m\u001b[38;5;241m.\u001b[39m_check_indexing_error(key)\n",
      "\u001b[0;31mKeyError\u001b[0m: 'myATR'"
     ]
    },
    {
     "data": {
      "text/plain": [
       "<Figure size 2200x500 with 0 Axes>"
      ]
     },
     "metadata": {},
     "output_type": "display_data"
    }
   ],
   "source": [
    "# Plotting\n",
    "plt.figure(figsize=(22, 5))\n",
    "# plt.plot(msft.index, msft['Close'], label='Close', marker='o')\n",
    "plt.plot(msft.index[14:], msft['myATR'][14:], label='myATR', linestyle='--', marker='o')\n",
    "plt.plot(msft.index, msft['ATR'], label='ATR', linestyle='--', marker='o')\n",
    "plt.title('Stock Price with Simple Moving Average (SMA)')\n",
    "plt.xlabel('Date')\n",
    "plt.ylabel('Price')\n",
    "plt.legend()\n",
    "plt.show()"
   ]
  },
  {
   "cell_type": "markdown",
   "id": "ae98802b-8c2e-43ca-b305-bf1e9cd3bb2c",
   "metadata": {},
   "source": [
    "### ATR WMA"
   ]
  },
  {
   "cell_type": "code",
   "execution_count": 27,
   "id": "2d4047ec-de16-4182-90b2-aca097867b04",
   "metadata": {},
   "outputs": [],
   "source": [
    "def atr_wma(data, period=14):\n",
    "    # Calculate True Range (TR)\n",
    "    data['High-Low'] = data['High'] - data['Low']\n",
    "    data['High-PrevClose'] = abs(data['High'] - data['Close'].shift(1))\n",
    "    data['Low-PrevClose'] = abs(data['Low'] - data['Close'].shift(1))\n",
    "\n",
    "    data['TrueRange'] = data[['High-Low', 'High-PrevClose', 'Low-PrevClose']].max(axis=1)\n",
    "\n",
    "    # Calculate Weighted Moving Average (WMA) of True Range\n",
    "    data['WMA'] = data['TrueRange'].rolling(window=period).apply(lambda x: (x * range(1, period + 1)).sum() / ((period * (period + 1)) / 2), raw=True)\n",
    "\n",
    "    # Drop temporary columns\n",
    "    data = data.drop(['High-Low', 'High-PrevClose', 'Low-PrevClose', 'TrueRange'], axis=1)\n",
    "\n",
    "    return data['WMA']\n",
    "msft['ATRwma'] = atr_wma(msft)\n",
    "msft['myATRwma'] = ATRwma(msft['Close'], msft['High'], msft['Low'], 14)"
   ]
  },
  {
   "cell_type": "code",
   "execution_count": 28,
   "id": "c716a780-2494-4806-9cb1-f79507a307e9",
   "metadata": {},
   "outputs": [
    {
     "data": {
      "image/png": "[encoded data removed]",
      "text/plain": [
       "<Figure size 2200x500 with 1 Axes>"
      ]
     },
     "metadata": {},
     "output_type": "display_data"
    }
   ],
   "source": [
    "plt.figure(figsize=(22, 5))\n",
    "# plt.plot(msft.index, msft['Close'], label='Close', marker='o')\n",
    "plt.plot(msft.index[14:], msft['myATRwma'][14:], label='myATRwma', linestyle='--', marker='o')\n",
    "plt.plot(msft.index, msft['ATRwma'], label='ATRwma', linestyle='--', marker='o')\n",
    "plt.title('Stock Price with Simple Moving Average (SMA)')\n",
    "plt.xlabel('Date')\n",
    "plt.ylabel('Price')\n",
    "plt.legend()\n",
    "plt.show()"
   ]
  },
  {
   "cell_type": "markdown",
   "id": "f7f01a76-741b-434f-9848-690aa8920d60",
   "metadata": {},
   "source": [
    "### ATR EMA"
   ]
  },
  {
   "cell_type": "code",
   "execution_count": 29,
   "id": "806988cb-fd04-4c56-807b-ef20b0b20f8d",
   "metadata": {},
   "outputs": [],
   "source": [
    "def calculate_atr_ema(data, period=14):\n",
    "    # Calculate True Range (TR)\n",
    "    data['High-Low'] = data['High'] - data['Low']\n",
    "    data['High-PrevClose'] = abs(data['High'] - data['Close'].shift(1))\n",
    "    data['Low-PrevClose'] = abs(data['Low'] - data['Close'].shift(1))\n",
    "\n",
    "    data['TrueRange'] = data[['High-Low', 'High-PrevClose', 'Low-PrevClose']].max(axis=1)\n",
    "\n",
    "    # Calculate ATR with EMA\n",
    "    data['ATR'] = data['TrueRange'].ewm(span=period, adjust=False, min_periods=period).mean()\n",
    "\n",
    "    # Drop temporary columns\n",
    "    data = data.drop(['High-Low', 'High-PrevClose', 'Low-PrevClose', 'TrueRange'], axis=1)\n",
    "\n",
    "    return data['ATR']\n",
    "msft['ATRema'] = calculate_atr_ema(msft)\n",
    "msft['myATRema'] = ATRema(msft['Close'], msft['High'], msft['Low'], 14)"
   ]
  },
  {
   "cell_type": "code",
   "execution_count": 30,
   "id": "d2fc82d8-a9e7-4df3-be73-c8afd8d23bb0",
   "metadata": {},
   "outputs": [
    {
     "data": {
      "image/png": "[encoded data removed]",
      "text/plain": [
       "<Figure size 2200x500 with 1 Axes>"
      ]
     },
     "metadata": {},
     "output_type": "display_data"
    }
   ],
   "source": [
    "plt.figure(figsize=(22, 5))\n",
    "# plt.plot(msft.index, msft['Close'], label='Close', marker='o')\n",
    "plt.plot(msft.index[14:], msft['myATRema'][14:], label='myATRema', linestyle='--', marker='o')\n",
    "plt.plot(msft.index[14:], msft['ATRema'][14:], label='ATRema', linestyle='--', marker='o')\n",
    "plt.title('Stock Price with Simple Moving Average (SMA)')\n",
    "plt.xlabel('Date')\n",
    "plt.ylabel('Price')\n",
    "plt.legend()\n",
    "plt.show()"
   ]
  },
  {
   "cell_type": "code",
   "execution_count": 31,
   "id": "566baece-aa02-41b1-b7a2-43aca2483772",
   "metadata": {},
   "outputs": [
    {
     "data": {
      "text/html": [
       "<div>\n",
       "<style scoped>\n",
       "    .dataframe tbody tr th:only-of-type {\n",
       "        vertical-align: middle;\n",
       "    }\n",
       "\n",
       "    .dataframe tbody tr th {\n",
       "        vertical-align: top;\n",
       "    }\n",
       "\n",
       "    .dataframe thead th {\n",
       "        text-align: right;\n",
       "    }\n",
       "</style>\n",
       "<table border=\"1\" class=\"dataframe\">\n",
       "  <thead>\n",
       "    <tr style=\"text-align: right;\">\n",
       "      <th></th>\n",
       "      <th>Open</th>\n",
       "      <th>High</th>\n",
       "      <th>Low</th>\n",
       "      <th>Close</th>\n",
       "      <th>Adj Close</th>\n",
       "      <th>Volume</th>\n",
       "      <th>MyCloseReturns</th>\n",
       "      <th>CloseReturns</th>\n",
       "      <th>SMA</th>\n",
       "      <th>mySMA</th>\n",
       "      <th>High-Low</th>\n",
       "      <th>High-PrevClose</th>\n",
       "      <th>Low-PrevClose</th>\n",
       "      <th>TrueRange</th>\n",
       "      <th>WMA</th>\n",
       "      <th>ATRwma</th>\n",
       "      <th>myATRwma</th>\n",
       "      <th>ATR</th>\n",
       "      <th>ATRema</th>\n",
       "      <th>myATRema</th>\n",
       "    </tr>\n",
       "    <tr>\n",
       "      <th>Date</th>\n",
       "      <th></th>\n",
       "      <th></th>\n",
       "      <th></th>\n",
       "      <th></th>\n",
       "      <th></th>\n",
       "      <th></th>\n",
       "      <th></th>\n",
       "      <th></th>\n",
       "      <th></th>\n",
       "      <th></th>\n",
       "      <th></th>\n",
       "      <th></th>\n",
       "      <th></th>\n",
       "      <th></th>\n",
       "      <th></th>\n",
       "      <th></th>\n",
       "      <th></th>\n",
       "      <th></th>\n",
       "      <th></th>\n",
       "      <th></th>\n",
       "    </tr>\n",
       "  </thead>\n",
       "  <tbody>\n",
       "    <tr>\n",
       "      <th>2024-01-09</th>\n",
       "      <td>372.010010</td>\n",
       "      <td>375.989990</td>\n",
       "      <td>371.190002</td>\n",
       "      <td>375.790009</td>\n",
       "      <td>375.790009</td>\n",
       "      <td>20830000</td>\n",
       "      <td>0.002936</td>\n",
       "      <td>0.002936</td>\n",
       "      <td>372.743337</td>\n",
       "      <td>372.743337</td>\n",
       "      <td>4.799988</td>\n",
       "      <td>1.299988</td>\n",
       "      <td>3.500000</td>\n",
       "      <td>4.799988</td>\n",
       "      <td>5.154380</td>\n",
       "      <td>5.154380</td>\n",
       "      <td>5.154380</td>\n",
       "      <td>5.065771</td>\n",
       "      <td>5.065771</td>\n",
       "      <td>7.038024</td>\n",
       "    </tr>\n",
       "    <tr>\n",
       "      <th>2024-01-10</th>\n",
       "      <td>376.369995</td>\n",
       "      <td>384.170013</td>\n",
       "      <td>376.320007</td>\n",
       "      <td>382.769989</td>\n",
       "      <td>382.769989</td>\n",
       "      <td>25514200</td>\n",
       "      <td>0.018574</td>\n",
       "      <td>0.018574</td>\n",
       "      <td>377.750000</td>\n",
       "      <td>377.750000</td>\n",
       "      <td>7.850006</td>\n",
       "      <td>8.380005</td>\n",
       "      <td>0.529999</td>\n",
       "      <td>8.380005</td>\n",
       "      <td>5.650000</td>\n",
       "      <td>5.650000</td>\n",
       "      <td>5.650000</td>\n",
       "      <td>5.507669</td>\n",
       "      <td>5.507669</td>\n",
       "      <td>7.216955</td>\n",
       "    </tr>\n",
       "    <tr>\n",
       "      <th>2024-01-11</th>\n",
       "      <td>386.000000</td>\n",
       "      <td>390.679993</td>\n",
       "      <td>380.380005</td>\n",
       "      <td>384.630005</td>\n",
       "      <td>384.630005</td>\n",
       "      <td>27850800</td>\n",
       "      <td>0.004859</td>\n",
       "      <td>0.004859</td>\n",
       "      <td>381.063334</td>\n",
       "      <td>381.063334</td>\n",
       "      <td>10.299988</td>\n",
       "      <td>7.910004</td>\n",
       "      <td>2.389984</td>\n",
       "      <td>10.299988</td>\n",
       "      <td>6.354379</td>\n",
       "      <td>6.354379</td>\n",
       "      <td>6.354379</td>\n",
       "      <td>6.146645</td>\n",
       "      <td>6.146645</td>\n",
       "      <td>7.628026</td>\n",
       "    </tr>\n",
       "    <tr>\n",
       "      <th>2024-01-12</th>\n",
       "      <td>385.489990</td>\n",
       "      <td>388.679993</td>\n",
       "      <td>384.649994</td>\n",
       "      <td>388.470001</td>\n",
       "      <td>388.470001</td>\n",
       "      <td>21645700</td>\n",
       "      <td>0.009984</td>\n",
       "      <td>0.009984</td>\n",
       "      <td>385.289998</td>\n",
       "      <td>385.289998</td>\n",
       "      <td>4.029999</td>\n",
       "      <td>4.049988</td>\n",
       "      <td>0.019989</td>\n",
       "      <td>4.049988</td>\n",
       "      <td>6.179711</td>\n",
       "      <td>6.179711</td>\n",
       "      <td>6.179711</td>\n",
       "      <td>5.867091</td>\n",
       "      <td>5.867091</td>\n",
       "      <td>7.150954</td>\n",
       "    </tr>\n",
       "    <tr>\n",
       "      <th>2024-01-16</th>\n",
       "      <td>393.660004</td>\n",
       "      <td>394.029999</td>\n",
       "      <td>387.622894</td>\n",
       "      <td>390.269989</td>\n",
       "      <td>390.269989</td>\n",
       "      <td>27135918</td>\n",
       "      <td>0.000000</td>\n",
       "      <td>0.004634</td>\n",
       "      <td>387.789998</td>\n",
       "      <td>387.789998</td>\n",
       "      <td>6.407104</td>\n",
       "      <td>5.559998</td>\n",
       "      <td>0.847107</td>\n",
       "      <td>6.407104</td>\n",
       "      <td>6.322373</td>\n",
       "      <td>6.322373</td>\n",
       "      <td>6.322373</td>\n",
       "      <td>5.939092</td>\n",
       "      <td>5.939092</td>\n",
       "      <td>7.051774</td>\n",
       "    </tr>\n",
       "  </tbody>\n",
       "</table>\n",
       "</div>"
      ],
      "text/plain": [
       "                  Open        High         Low       Close   Adj Close  \\\n",
       "Date                                                                     \n",
       "2024-01-09  372.010010  375.989990  371.190002  375.790009  375.790009   \n",
       "2024-01-10  376.369995  384.170013  376.320007  382.769989  382.769989   \n",
       "2024-01-11  386.000000  390.679993  380.380005  384.630005  384.630005   \n",
       "2024-01-12  385.489990  388.679993  384.649994  388.470001  388.470001   \n",
       "2024-01-16  393.660004  394.029999  387.622894  390.269989  390.269989   \n",
       "\n",
       "              Volume  MyCloseReturns  CloseReturns         SMA       mySMA  \\\n",
       "Date                                                                         \n",
       "2024-01-09  20830000        0.002936      0.002936  372.743337  372.743337   \n",
       "2024-01-10  25514200        0.018574      0.018574  377.750000  377.750000   \n",
       "2024-01-11  27850800        0.004859      0.004859  381.063334  381.063334   \n",
       "2024-01-12  21645700        0.009984      0.009984  385.289998  385.289998   \n",
       "2024-01-16  27135918        0.000000      0.004634  387.789998  387.789998   \n",
       "\n",
       "             High-Low  High-PrevClose  Low-PrevClose  TrueRange       WMA  \\\n",
       "Date                                                                        \n",
       "2024-01-09   4.799988        1.299988       3.500000   4.799988  5.154380   \n",
       "2024-01-10   7.850006        8.380005       0.529999   8.380005  5.650000   \n",
       "2024-01-11  10.299988        7.910004       2.389984  10.299988  6.354379   \n",
       "2024-01-12   4.029999        4.049988       0.019989   4.049988  6.179711   \n",
       "2024-01-16   6.407104        5.559998       0.847107   6.407104  6.322373   \n",
       "\n",
       "              ATRwma  myATRwma       ATR    ATRema  myATRema  \n",
       "Date                                                          \n",
       "2024-01-09  5.154380  5.154380  5.065771  5.065771  7.038024  \n",
       "2024-01-10  5.650000  5.650000  5.507669  5.507669  7.216955  \n",
       "2024-01-11  6.354379  6.354379  6.146645  6.146645  7.628026  \n",
       "2024-01-12  6.179711  6.179711  5.867091  5.867091  7.150954  \n",
       "2024-01-16  6.322373  6.322373  5.939092  5.939092  7.051774  "
      ]
     },
     "execution_count": 31,
     "metadata": {},
     "output_type": "execute_result"
    }
   ],
   "source": [
    "msft[14:]"
   ]
  },
  {
   "cell_type": "code",
   "execution_count": null,
   "id": "f80c8092-61b7-4d7b-af63-94d5709dbc3e",
   "metadata": {},
   "outputs": [],
   "source": []
  },
  {
   "cell_type": "code",
   "execution_count": null,
   "id": "040f9bb6-8272-42d8-93fe-ae4534207142",
   "metadata": {},
   "outputs": [],
   "source": []
  }
 ],
 "metadata": {
  "kernelspec": {
   "display_name": "Python 3 (ipykernel)",
   "language": "python",
   "name": "python3"
  },
  "language_info": {
   "codemirror_mode": {
    "name": "ipython",
    "version": 3
   },
   "file_extension": ".py",
   "mimetype": "text/x-python",
   "name": "python",
   "nbconvert_exporter": "python",
   "pygments_lexer": "ipython3",
   "version": "3.11.6"
  }
 },
 "nbformat": 4,
 "nbformat_minor": 5
}

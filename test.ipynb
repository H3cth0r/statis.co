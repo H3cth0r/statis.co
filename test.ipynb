{
 "cells": [
  {
   "cell_type": "markdown",
   "id": "ce9cef75-bb5e-47b3-b289-096f12d23e89",
   "metadata": {},
   "source": [
    "# Basic Analysis\n",
    "\n",
    "## Import Libraries"
   ]
  },
  {
   "cell_type": "code",
   "execution_count": 1,
   "id": "459e6ce9-9382-4ced-9142-63d16932054e",
   "metadata": {},
   "outputs": [],
   "source": [
    "# Custom imports\n",
    "from statisco.statistics import closingReturns, mean, variance, stdDev\n",
    "\n",
    "# Foreing Libraries\n",
    "import yfinance as yf\n",
    "import numpy as np"
   ]
  },
  {
   "cell_type": "code",
   "execution_count": 2,
   "id": "e333bead-7bf7-4700-a630-f403b5840e82",
   "metadata": {},
   "outputs": [
    {
     "name": "stdout",
     "output_type": "stream",
     "text": [
      "[*********************100%%**********************]  1 of 1 completed\n"
     ]
    }
   ],
   "source": [
    "msft = yf.download(\"MSFT\", period=\"1mo\")"
   ]
  },
  {
   "cell_type": "code",
   "execution_count": 3,
   "id": "5a6b5511-f345-4fb2-a08b-982c8511a187",
   "metadata": {},
   "outputs": [
    {
     "data": {
      "text/html": [
       "<div>\n",
       "<style scoped>\n",
       "    .dataframe tbody tr th:only-of-type {\n",
       "        vertical-align: middle;\n",
       "    }\n",
       "\n",
       "    .dataframe tbody tr th {\n",
       "        vertical-align: top;\n",
       "    }\n",
       "\n",
       "    .dataframe thead th {\n",
       "        text-align: right;\n",
       "    }\n",
       "</style>\n",
       "<table border=\"1\" class=\"dataframe\">\n",
       "  <thead>\n",
       "    <tr style=\"text-align: right;\">\n",
       "      <th></th>\n",
       "      <th>Open</th>\n",
       "      <th>High</th>\n",
       "      <th>Low</th>\n",
       "      <th>Close</th>\n",
       "      <th>Adj Close</th>\n",
       "      <th>Volume</th>\n",
       "    </tr>\n",
       "    <tr>\n",
       "      <th>Date</th>\n",
       "      <th></th>\n",
       "      <th></th>\n",
       "      <th></th>\n",
       "      <th></th>\n",
       "      <th></th>\n",
       "      <th></th>\n",
       "    </tr>\n",
       "  </thead>\n",
       "  <tbody>\n",
       "    <tr>\n",
       "      <th>2023-11-07</th>\n",
       "      <td>359.399994</td>\n",
       "      <td>362.459991</td>\n",
       "      <td>357.630005</td>\n",
       "      <td>360.529999</td>\n",
       "      <td>359.799744</td>\n",
       "      <td>25833900</td>\n",
       "    </tr>\n",
       "    <tr>\n",
       "      <th>2023-11-08</th>\n",
       "      <td>361.679993</td>\n",
       "      <td>363.869995</td>\n",
       "      <td>360.549988</td>\n",
       "      <td>363.200012</td>\n",
       "      <td>362.464325</td>\n",
       "      <td>26767800</td>\n",
       "    </tr>\n",
       "    <tr>\n",
       "      <th>2023-11-09</th>\n",
       "      <td>362.299988</td>\n",
       "      <td>364.790009</td>\n",
       "      <td>360.359985</td>\n",
       "      <td>360.690002</td>\n",
       "      <td>359.959412</td>\n",
       "      <td>24847300</td>\n",
       "    </tr>\n",
       "    <tr>\n",
       "      <th>2023-11-10</th>\n",
       "      <td>361.489990</td>\n",
       "      <td>370.100006</td>\n",
       "      <td>361.070007</td>\n",
       "      <td>369.670013</td>\n",
       "      <td>368.921234</td>\n",
       "      <td>28042100</td>\n",
       "    </tr>\n",
       "    <tr>\n",
       "      <th>2023-11-13</th>\n",
       "      <td>368.220001</td>\n",
       "      <td>368.470001</td>\n",
       "      <td>365.899994</td>\n",
       "      <td>366.679993</td>\n",
       "      <td>365.937256</td>\n",
       "      <td>19986500</td>\n",
       "    </tr>\n",
       "  </tbody>\n",
       "</table>\n",
       "</div>"
      ],
      "text/plain": [
       "                  Open        High         Low       Close   Adj Close  \\\n",
       "Date                                                                     \n",
       "2023-11-07  359.399994  362.459991  357.630005  360.529999  359.799744   \n",
       "2023-11-08  361.679993  363.869995  360.549988  363.200012  362.464325   \n",
       "2023-11-09  362.299988  364.790009  360.359985  360.690002  359.959412   \n",
       "2023-11-10  361.489990  370.100006  361.070007  369.670013  368.921234   \n",
       "2023-11-13  368.220001  368.470001  365.899994  366.679993  365.937256   \n",
       "\n",
       "              Volume  \n",
       "Date                  \n",
       "2023-11-07  25833900  \n",
       "2023-11-08  26767800  \n",
       "2023-11-09  24847300  \n",
       "2023-11-10  28042100  \n",
       "2023-11-13  19986500  "
      ]
     },
     "execution_count": 3,
     "metadata": {},
     "output_type": "execute_result"
    }
   ],
   "source": [
    "msft.head(5)"
   ]
  },
  {
   "cell_type": "markdown",
   "id": "38e9f105-8214-43e8-b624-c6e9b16b4dbb",
   "metadata": {},
   "source": [
    "### Close Returns"
   ]
  },
  {
   "cell_type": "code",
   "execution_count": 4,
   "id": "013b2042-dff7-4f00-9102-b79ede43d9da",
   "metadata": {},
   "outputs": [],
   "source": [
    "msft[\"MyCloseReturns\"] = closingReturns(msft[\"Adj Close\"])"
   ]
  },
  {
   "cell_type": "code",
   "execution_count": 5,
   "id": "b87d05c7-126b-4f62-9911-aadfba4e61e7",
   "metadata": {},
   "outputs": [],
   "source": [
    "msft[\"CloseReturns\"] = msft[\"Adj Close\"].pct_change()"
   ]
  },
  {
   "cell_type": "code",
   "execution_count": 6,
   "id": "19d6ebfb-12fa-46e1-a7ea-86cbeab4d8e5",
   "metadata": {},
   "outputs": [
    {
     "name": "stdout",
     "output_type": "stream",
     "text": [
      "                  Open        High         Low       Close   Adj Close  \\\n",
      "Date                                                                     \n",
      "2023-11-07  359.399994  362.459991  357.630005  360.529999  359.799744   \n",
      "2023-11-08  361.679993  363.869995  360.549988  363.200012  362.464325   \n",
      "2023-11-09  362.299988  364.790009  360.359985  360.690002  359.959412   \n",
      "2023-11-10  361.489990  370.100006  361.070007  369.670013  368.921234   \n",
      "2023-11-13  368.220001  368.470001  365.899994  366.679993  365.937256   \n",
      "\n",
      "              Volume  MyCloseReturns  CloseReturns  \n",
      "Date                                                \n",
      "2023-11-07  25833900        0.000000           NaN  \n",
      "2023-11-08  26767800        0.007406      0.007406  \n",
      "2023-11-09  24847300       -0.006911     -0.006911  \n",
      "2023-11-10  28042100        0.024897      0.024897  \n",
      "2023-11-13  19986500       -0.008088     -0.008088  \n"
     ]
    }
   ],
   "source": [
    "print(msft.head())"
   ]
  },
  {
   "cell_type": "code",
   "execution_count": 7,
   "id": "9ead8530-2131-4743-b8cb-54e3e7a214cd",
   "metadata": {},
   "outputs": [
    {
     "data": {
      "text/html": [
       "<div>\n",
       "<style scoped>\n",
       "    .dataframe tbody tr th:only-of-type {\n",
       "        vertical-align: middle;\n",
       "    }\n",
       "\n",
       "    .dataframe tbody tr th {\n",
       "        vertical-align: top;\n",
       "    }\n",
       "\n",
       "    .dataframe thead th {\n",
       "        text-align: right;\n",
       "    }\n",
       "</style>\n",
       "<table border=\"1\" class=\"dataframe\">\n",
       "  <thead>\n",
       "    <tr style=\"text-align: right;\">\n",
       "      <th></th>\n",
       "      <th>Open</th>\n",
       "      <th>High</th>\n",
       "      <th>Low</th>\n",
       "      <th>Close</th>\n",
       "      <th>Adj Close</th>\n",
       "      <th>Volume</th>\n",
       "      <th>MyCloseReturns</th>\n",
       "      <th>CloseReturns</th>\n",
       "    </tr>\n",
       "    <tr>\n",
       "      <th>Date</th>\n",
       "      <th></th>\n",
       "      <th></th>\n",
       "      <th></th>\n",
       "      <th></th>\n",
       "      <th></th>\n",
       "      <th></th>\n",
       "      <th></th>\n",
       "      <th></th>\n",
       "    </tr>\n",
       "  </thead>\n",
       "  <tbody>\n",
       "    <tr>\n",
       "      <th>2023-11-07</th>\n",
       "      <td>359.399994</td>\n",
       "      <td>362.459991</td>\n",
       "      <td>357.630005</td>\n",
       "      <td>360.529999</td>\n",
       "      <td>359.799744</td>\n",
       "      <td>25833900</td>\n",
       "      <td>0.000000</td>\n",
       "      <td>NaN</td>\n",
       "    </tr>\n",
       "    <tr>\n",
       "      <th>2023-11-08</th>\n",
       "      <td>361.679993</td>\n",
       "      <td>363.869995</td>\n",
       "      <td>360.549988</td>\n",
       "      <td>363.200012</td>\n",
       "      <td>362.464325</td>\n",
       "      <td>26767800</td>\n",
       "      <td>0.007406</td>\n",
       "      <td>0.007406</td>\n",
       "    </tr>\n",
       "    <tr>\n",
       "      <th>2023-11-09</th>\n",
       "      <td>362.299988</td>\n",
       "      <td>364.790009</td>\n",
       "      <td>360.359985</td>\n",
       "      <td>360.690002</td>\n",
       "      <td>359.959412</td>\n",
       "      <td>24847300</td>\n",
       "      <td>-0.006911</td>\n",
       "      <td>-0.006911</td>\n",
       "    </tr>\n",
       "    <tr>\n",
       "      <th>2023-11-10</th>\n",
       "      <td>361.489990</td>\n",
       "      <td>370.100006</td>\n",
       "      <td>361.070007</td>\n",
       "      <td>369.670013</td>\n",
       "      <td>368.921234</td>\n",
       "      <td>28042100</td>\n",
       "      <td>0.024897</td>\n",
       "      <td>0.024897</td>\n",
       "    </tr>\n",
       "    <tr>\n",
       "      <th>2023-11-13</th>\n",
       "      <td>368.220001</td>\n",
       "      <td>368.470001</td>\n",
       "      <td>365.899994</td>\n",
       "      <td>366.679993</td>\n",
       "      <td>365.937256</td>\n",
       "      <td>19986500</td>\n",
       "      <td>-0.008088</td>\n",
       "      <td>-0.008088</td>\n",
       "    </tr>\n",
       "  </tbody>\n",
       "</table>\n",
       "</div>"
      ],
      "text/plain": [
       "                  Open        High         Low       Close   Adj Close  \\\n",
       "Date                                                                     \n",
       "2023-11-07  359.399994  362.459991  357.630005  360.529999  359.799744   \n",
       "2023-11-08  361.679993  363.869995  360.549988  363.200012  362.464325   \n",
       "2023-11-09  362.299988  364.790009  360.359985  360.690002  359.959412   \n",
       "2023-11-10  361.489990  370.100006  361.070007  369.670013  368.921234   \n",
       "2023-11-13  368.220001  368.470001  365.899994  366.679993  365.937256   \n",
       "\n",
       "              Volume  MyCloseReturns  CloseReturns  \n",
       "Date                                                \n",
       "2023-11-07  25833900        0.000000           NaN  \n",
       "2023-11-08  26767800        0.007406      0.007406  \n",
       "2023-11-09  24847300       -0.006911     -0.006911  \n",
       "2023-11-10  28042100        0.024897      0.024897  \n",
       "2023-11-13  19986500       -0.008088     -0.008088  "
      ]
     },
     "execution_count": 7,
     "metadata": {},
     "output_type": "execute_result"
    }
   ],
   "source": [
    "msft.head()"
   ]
  },
  {
   "cell_type": "markdown",
   "id": "3c58f936-59f2-4484-ac9f-9f77345d5c54",
   "metadata": {},
   "source": [
    "### Mean"
   ]
  },
  {
   "cell_type": "code",
   "execution_count": 8,
   "id": "a5a3270b-b61f-46ad-8153-8d2857bb9ff5",
   "metadata": {},
   "outputs": [
    {
     "name": "stdout",
     "output_type": "stream",
     "text": [
      "default pandas mean: 0.0017218963839700705\n",
      "myMean: 0.0017218963839700705\n"
     ]
    }
   ],
   "source": [
    "defaultMean = msft[\"MyCloseReturns\"].mean()\n",
    "myMean = mean(msft[\"MyCloseReturns\"])\n",
    "\n",
    "print(f\"default pandas mean: {defaultMean}\")\n",
    "print(f\"myMean: {myMean}\")"
   ]
  },
  {
   "cell_type": "markdown",
   "id": "9705213e-55fc-4f74-8864-46441880e056",
   "metadata": {},
   "source": [
    "### Variance"
   ]
  },
  {
   "cell_type": "code",
   "execution_count": 9,
   "id": "815a8d31-99ec-401e-83b0-91519ece3d53",
   "metadata": {},
   "outputs": [
    {
     "name": "stdout",
     "output_type": "stream",
     "text": [
      "default numpy variance: 0.00013265013710857986\n",
      "myMean: 0.00013265013710857991\n"
     ]
    }
   ],
   "source": [
    "defaultVariance = np.var(msft[\"MyCloseReturns\"])\n",
    "myVariance = variance(msft[\"MyCloseReturns\"], myMean)\n",
    "\n",
    "print(f\"default numpy variance: {defaultVariance}\")\n",
    "print(f\"myMean: {myVariance}\")"
   ]
  },
  {
   "cell_type": "markdown",
   "id": "0d6f6bc3-ac98-485b-b676-5343a870e1f3",
   "metadata": {},
   "source": [
    "### Std Dev"
   ]
  },
  {
   "cell_type": "code",
   "execution_count": 11,
   "id": "9212d246-a269-4887-ad44-17eae2618a4f",
   "metadata": {},
   "outputs": [
    {
     "name": "stdout",
     "output_type": "stream",
     "text": [
      "default numpy std dev: 0.011801806809298687\n",
      "myStandardDeviation: 0.011517384126119086\n"
     ]
    }
   ],
   "source": [
    "defaultStandardDeviation = msft[\"MyCloseReturns\"].std()\n",
    "myStandardDeviation = stdDev(msft[\"MyCloseReturns\"], myMean)\n",
    "\n",
    "print(f\"default numpy std dev: {defaultStandardDeviation}\")\n",
    "print(f\"myStandardDeviation: {myStandardDeviation}\")"
   ]
  },
  {
   "cell_type": "code",
   "execution_count": null,
   "id": "4a1fd7e0-8203-4ead-b068-a3805e0e6ec1",
   "metadata": {},
   "outputs": [],
   "source": []
  }
 ],
 "metadata": {
  "kernelspec": {
   "display_name": "Python 3 (ipykernel)",
   "language": "python",
   "name": "python3"
  },
  "language_info": {
   "codemirror_mode": {
    "name": "ipython",
    "version": 3
   },
   "file_extension": ".py",
   "mimetype": "text/x-python",
   "name": "python",
   "nbconvert_exporter": "python",
   "pygments_lexer": "ipython3",
   "version": "3.11.6"
  }
 },
 "nbformat": 4,
 "nbformat_minor": 5
}

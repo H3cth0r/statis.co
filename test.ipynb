{
 "cells": [
  {
   "cell_type": "markdown",
   "id": "ce9cef75-bb5e-47b3-b289-096f12d23e89",
   "metadata": {},
   "source": [
    "# Basic Analysis\n",
    "\n",
    "## Import Libraries"
   ]
  },
  {
   "cell_type": "code",
   "execution_count": 6,
   "id": "459e6ce9-9382-4ced-9142-63d16932054e",
   "metadata": {},
   "outputs": [],
   "source": [
    "# Custom imports\n",
    "from statisco.statistics import closingReturns, mean, variance, stdDev, covariance, correlation\n",
    "\n",
    "# Foreing Libraries\n",
    "import yfinance as yf\n",
    "import numpy as np\n",
    "import math"
   ]
  },
  {
   "cell_type": "code",
   "execution_count": 2,
   "id": "e333bead-7bf7-4700-a630-f403b5840e82",
   "metadata": {},
   "outputs": [
    {
     "name": "stdout",
     "output_type": "stream",
     "text": [
      "[*********************100%%**********************]  1 of 1 completed\n",
      "[*********************100%%**********************]  1 of 1 completed\n"
     ]
    }
   ],
   "source": [
    "msft = yf.download(\"MSFT\", period=\"1mo\")\n",
    "aapl = yf.download(\"AAPL\", period=\"1mo\")"
   ]
  },
  {
   "cell_type": "code",
   "execution_count": 3,
   "id": "5a6b5511-f345-4fb2-a08b-982c8511a187",
   "metadata": {},
   "outputs": [
    {
     "data": {
      "text/html": [
       "<div>\n",
       "<style scoped>\n",
       "    .dataframe tbody tr th:only-of-type {\n",
       "        vertical-align: middle;\n",
       "    }\n",
       "\n",
       "    .dataframe tbody tr th {\n",
       "        vertical-align: top;\n",
       "    }\n",
       "\n",
       "    .dataframe thead th {\n",
       "        text-align: right;\n",
       "    }\n",
       "</style>\n",
       "<table border=\"1\" class=\"dataframe\">\n",
       "  <thead>\n",
       "    <tr style=\"text-align: right;\">\n",
       "      <th></th>\n",
       "      <th>Open</th>\n",
       "      <th>High</th>\n",
       "      <th>Low</th>\n",
       "      <th>Close</th>\n",
       "      <th>Adj Close</th>\n",
       "      <th>Volume</th>\n",
       "    </tr>\n",
       "    <tr>\n",
       "      <th>Date</th>\n",
       "      <th></th>\n",
       "      <th></th>\n",
       "      <th></th>\n",
       "      <th></th>\n",
       "      <th></th>\n",
       "      <th></th>\n",
       "    </tr>\n",
       "  </thead>\n",
       "  <tbody>\n",
       "    <tr>\n",
       "      <th>2023-11-07</th>\n",
       "      <td>359.399994</td>\n",
       "      <td>362.459991</td>\n",
       "      <td>357.630005</td>\n",
       "      <td>360.529999</td>\n",
       "      <td>359.799744</td>\n",
       "      <td>25833900</td>\n",
       "    </tr>\n",
       "    <tr>\n",
       "      <th>2023-11-08</th>\n",
       "      <td>361.679993</td>\n",
       "      <td>363.869995</td>\n",
       "      <td>360.549988</td>\n",
       "      <td>363.200012</td>\n",
       "      <td>362.464325</td>\n",
       "      <td>26767800</td>\n",
       "    </tr>\n",
       "    <tr>\n",
       "      <th>2023-11-09</th>\n",
       "      <td>362.299988</td>\n",
       "      <td>364.790009</td>\n",
       "      <td>360.359985</td>\n",
       "      <td>360.690002</td>\n",
       "      <td>359.959412</td>\n",
       "      <td>24847300</td>\n",
       "    </tr>\n",
       "    <tr>\n",
       "      <th>2023-11-10</th>\n",
       "      <td>361.489990</td>\n",
       "      <td>370.100006</td>\n",
       "      <td>361.070007</td>\n",
       "      <td>369.670013</td>\n",
       "      <td>368.921234</td>\n",
       "      <td>28042100</td>\n",
       "    </tr>\n",
       "    <tr>\n",
       "      <th>2023-11-13</th>\n",
       "      <td>368.220001</td>\n",
       "      <td>368.470001</td>\n",
       "      <td>365.899994</td>\n",
       "      <td>366.679993</td>\n",
       "      <td>365.937256</td>\n",
       "      <td>19986500</td>\n",
       "    </tr>\n",
       "  </tbody>\n",
       "</table>\n",
       "</div>"
      ],
      "text/plain": [
       "                  Open        High         Low       Close   Adj Close  \\\n",
       "Date                                                                     \n",
       "2023-11-07  359.399994  362.459991  357.630005  360.529999  359.799744   \n",
       "2023-11-08  361.679993  363.869995  360.549988  363.200012  362.464325   \n",
       "2023-11-09  362.299988  364.790009  360.359985  360.690002  359.959412   \n",
       "2023-11-10  361.489990  370.100006  361.070007  369.670013  368.921234   \n",
       "2023-11-13  368.220001  368.470001  365.899994  366.679993  365.937256   \n",
       "\n",
       "              Volume  \n",
       "Date                  \n",
       "2023-11-07  25833900  \n",
       "2023-11-08  26767800  \n",
       "2023-11-09  24847300  \n",
       "2023-11-10  28042100  \n",
       "2023-11-13  19986500  "
      ]
     },
     "execution_count": 3,
     "metadata": {},
     "output_type": "execute_result"
    }
   ],
   "source": [
    "msft.head(5)"
   ]
  },
  {
   "cell_type": "markdown",
   "id": "a2a14d3a-bf2b-4a0e-9e47-9614f4f6bd38",
   "metadata": {
    "jp-MarkdownHeadingCollapsed": true
   },
   "source": [
    "## Statistics"
   ]
  },
  {
   "cell_type": "markdown",
   "id": "38e9f105-8214-43e8-b624-c6e9b16b4dbb",
   "metadata": {},
   "source": [
    "### Close Returns"
   ]
  },
  {
   "cell_type": "code",
   "execution_count": 4,
   "id": "013b2042-dff7-4f00-9102-b79ede43d9da",
   "metadata": {},
   "outputs": [],
   "source": [
    "msft[\"MyCloseReturns\"] = closingReturns(msft[\"Adj Close\"])"
   ]
  },
  {
   "cell_type": "code",
   "execution_count": 5,
   "id": "314560ec-60aa-4aba-9516-09310ea0d799",
   "metadata": {},
   "outputs": [],
   "source": [
    "aapl[\"MyCloseReturns\"] = closingReturns(aapl[\"Adj Close\"])"
   ]
  },
  {
   "cell_type": "code",
   "execution_count": 6,
   "id": "b87d05c7-126b-4f62-9911-aadfba4e61e7",
   "metadata": {},
   "outputs": [],
   "source": [
    "msft[\"CloseReturns\"] = msft[\"Adj Close\"].pct_change()"
   ]
  },
  {
   "cell_type": "code",
   "execution_count": 7,
   "id": "19d6ebfb-12fa-46e1-a7ea-86cbeab4d8e5",
   "metadata": {},
   "outputs": [
    {
     "data": {
      "text/html": [
       "<div>\n",
       "<style scoped>\n",
       "    .dataframe tbody tr th:only-of-type {\n",
       "        vertical-align: middle;\n",
       "    }\n",
       "\n",
       "    .dataframe tbody tr th {\n",
       "        vertical-align: top;\n",
       "    }\n",
       "\n",
       "    .dataframe thead th {\n",
       "        text-align: right;\n",
       "    }\n",
       "</style>\n",
       "<table border=\"1\" class=\"dataframe\">\n",
       "  <thead>\n",
       "    <tr style=\"text-align: right;\">\n",
       "      <th></th>\n",
       "      <th>Open</th>\n",
       "      <th>High</th>\n",
       "      <th>Low</th>\n",
       "      <th>Close</th>\n",
       "      <th>Adj Close</th>\n",
       "      <th>Volume</th>\n",
       "      <th>MyCloseReturns</th>\n",
       "      <th>CloseReturns</th>\n",
       "    </tr>\n",
       "    <tr>\n",
       "      <th>Date</th>\n",
       "      <th></th>\n",
       "      <th></th>\n",
       "      <th></th>\n",
       "      <th></th>\n",
       "      <th></th>\n",
       "      <th></th>\n",
       "      <th></th>\n",
       "      <th></th>\n",
       "    </tr>\n",
       "  </thead>\n",
       "  <tbody>\n",
       "    <tr>\n",
       "      <th>2023-11-07</th>\n",
       "      <td>359.399994</td>\n",
       "      <td>362.459991</td>\n",
       "      <td>357.630005</td>\n",
       "      <td>360.529999</td>\n",
       "      <td>359.799744</td>\n",
       "      <td>25833900</td>\n",
       "      <td>0.000000</td>\n",
       "      <td>NaN</td>\n",
       "    </tr>\n",
       "    <tr>\n",
       "      <th>2023-11-08</th>\n",
       "      <td>361.679993</td>\n",
       "      <td>363.869995</td>\n",
       "      <td>360.549988</td>\n",
       "      <td>363.200012</td>\n",
       "      <td>362.464325</td>\n",
       "      <td>26767800</td>\n",
       "      <td>0.007406</td>\n",
       "      <td>0.007406</td>\n",
       "    </tr>\n",
       "    <tr>\n",
       "      <th>2023-11-09</th>\n",
       "      <td>362.299988</td>\n",
       "      <td>364.790009</td>\n",
       "      <td>360.359985</td>\n",
       "      <td>360.690002</td>\n",
       "      <td>359.959412</td>\n",
       "      <td>24847300</td>\n",
       "      <td>-0.006911</td>\n",
       "      <td>-0.006911</td>\n",
       "    </tr>\n",
       "    <tr>\n",
       "      <th>2023-11-10</th>\n",
       "      <td>361.489990</td>\n",
       "      <td>370.100006</td>\n",
       "      <td>361.070007</td>\n",
       "      <td>369.670013</td>\n",
       "      <td>368.921234</td>\n",
       "      <td>28042100</td>\n",
       "      <td>0.024897</td>\n",
       "      <td>0.024897</td>\n",
       "    </tr>\n",
       "    <tr>\n",
       "      <th>2023-11-13</th>\n",
       "      <td>368.220001</td>\n",
       "      <td>368.470001</td>\n",
       "      <td>365.899994</td>\n",
       "      <td>366.679993</td>\n",
       "      <td>365.937256</td>\n",
       "      <td>19986500</td>\n",
       "      <td>-0.008088</td>\n",
       "      <td>-0.008088</td>\n",
       "    </tr>\n",
       "  </tbody>\n",
       "</table>\n",
       "</div>"
      ],
      "text/plain": [
       "                  Open        High         Low       Close   Adj Close  \\\n",
       "Date                                                                     \n",
       "2023-11-07  359.399994  362.459991  357.630005  360.529999  359.799744   \n",
       "2023-11-08  361.679993  363.869995  360.549988  363.200012  362.464325   \n",
       "2023-11-09  362.299988  364.790009  360.359985  360.690002  359.959412   \n",
       "2023-11-10  361.489990  370.100006  361.070007  369.670013  368.921234   \n",
       "2023-11-13  368.220001  368.470001  365.899994  366.679993  365.937256   \n",
       "\n",
       "              Volume  MyCloseReturns  CloseReturns  \n",
       "Date                                                \n",
       "2023-11-07  25833900        0.000000           NaN  \n",
       "2023-11-08  26767800        0.007406      0.007406  \n",
       "2023-11-09  24847300       -0.006911     -0.006911  \n",
       "2023-11-10  28042100        0.024897      0.024897  \n",
       "2023-11-13  19986500       -0.008088     -0.008088  "
      ]
     },
     "execution_count": 7,
     "metadata": {},
     "output_type": "execute_result"
    }
   ],
   "source": [
    "msft.head()"
   ]
  },
  {
   "cell_type": "markdown",
   "id": "3c58f936-59f2-4484-ac9f-9f77345d5c54",
   "metadata": {},
   "source": [
    "### Mean"
   ]
  },
  {
   "cell_type": "code",
   "execution_count": 8,
   "id": "a5a3270b-b61f-46ad-8153-8d2857bb9ff5",
   "metadata": {},
   "outputs": [
    {
     "name": "stdout",
     "output_type": "stream",
     "text": [
      "default pandas mean: 0.0011897172488205695\n",
      "myMean: 0.0011897172488205695\n"
     ]
    }
   ],
   "source": [
    "defaultMean = msft[\"MyCloseReturns\"].mean()\n",
    "myMean = mean(msft[\"MyCloseReturns\"])\n",
    "myMeanAapl = mean(aapl[\"MyCloseReturns\"])\n",
    "\n",
    "print(f\"default pandas mean: {defaultMean}\")\n",
    "print(f\"myMean: {myMean}\")"
   ]
  },
  {
   "cell_type": "markdown",
   "id": "9705213e-55fc-4f74-8864-46441880e056",
   "metadata": {},
   "source": [
    "### Variance"
   ]
  },
  {
   "cell_type": "code",
   "execution_count": 9,
   "id": "815a8d31-99ec-401e-83b0-91519ece3d53",
   "metadata": {},
   "outputs": [
    {
     "name": "stdout",
     "output_type": "stream",
     "text": [
      "default numpy variance: 0.00013256809269148416\n",
      "myMean: 0.0001325680926914842\n"
     ]
    }
   ],
   "source": [
    "defaultVariance = np.var(msft[\"MyCloseReturns\"])\n",
    "myVariance = variance(msft[\"MyCloseReturns\"], myMean)\n",
    "myVarianceAapl = variance(aapl[\"MyCloseReturns\"], myMeanAapl)\n",
    "\n",
    "print(f\"default numpy variance: {defaultVariance}\")\n",
    "print(f\"myMean: {myVariance}\")"
   ]
  },
  {
   "cell_type": "markdown",
   "id": "0d6f6bc3-ac98-485b-b676-5343a870e1f3",
   "metadata": {},
   "source": [
    "### Std Dev"
   ]
  },
  {
   "cell_type": "code",
   "execution_count": 10,
   "id": "9212d246-a269-4887-ad44-17eae2618a4f",
   "metadata": {},
   "outputs": [
    {
     "name": "stdout",
     "output_type": "stream",
     "text": [
      "default numpy std dev: 0.011784772335948043\n",
      "myStandardDeviation: 0.011513821810827376\n"
     ]
    }
   ],
   "source": [
    "defaultStandardDeviation = msft[\"MyCloseReturns\"].std()\n",
    "myStandardDeviation = stdDev(msft[\"MyCloseReturns\"], myMean)\n",
    "myStandardDeviationAapl = stdDev(aapl[\"MyCloseReturns\"], myMeanAapl)\n",
    "\n",
    "print(f\"default numpy std dev: {defaultStandardDeviation}\")\n",
    "print(f\"myStandardDeviation: {myStandardDeviation}\")"
   ]
  },
  {
   "cell_type": "markdown",
   "id": "bb02ab29-4be0-4231-857d-36ff5d7eb4d1",
   "metadata": {},
   "source": [
    "### Covariance"
   ]
  },
  {
   "cell_type": "code",
   "execution_count": 11,
   "id": "6b1cee92-e814-4aff-8f52-5f491d8894aa",
   "metadata": {},
   "outputs": [
    {
     "name": "stdout",
     "output_type": "stream",
     "text": [
      "defualt covariance: 7.747994065058295e-05\n",
      "myCovariance: 7.747994065058295e-05\n"
     ]
    }
   ],
   "source": [
    "covariance_matrix = np.cov(msft[\"MyCloseReturns\"], aapl[\"MyCloseReturns\"])\n",
    "covariance_value = covariance_matrix[0, 1]\n",
    "\n",
    "myCovariance = covariance(msft[\"MyCloseReturns\"], myMean, aapl[\"MyCloseReturns\"], myMeanAapl)\n",
    "\n",
    "print(f\"defualt covariance: {covariance_value}\")\n",
    "print(f\"myCovariance: {myCovariance}\")"
   ]
  },
  {
   "cell_type": "markdown",
   "id": "7840700c-f653-456f-b2e4-840421a0f1b3",
   "metadata": {},
   "source": [
    "### Correlation"
   ]
  },
  {
   "cell_type": "code",
   "execution_count": 12,
   "id": "36b9e0d9-b9d1-44dd-8fa8-8be9222294fb",
   "metadata": {},
   "outputs": [],
   "source": [
    "correlation_coefficient = np.corrcoef(msft[\"MyCloseReturns\"], aapl[\"MyCloseReturns\"])[0, 1]\n",
    "myCorrelation = correlation(myCovariance, myVariance, myVarianceAapl)"
   ]
  },
  {
   "cell_type": "code",
   "execution_count": 15,
   "id": "ddff4f5a-5d41-427c-b18d-bf131f4bf1ad",
   "metadata": {},
   "outputs": [
    {
     "name": "stdout",
     "output_type": "stream",
     "text": [
      "defualt correlation: 0.7481481641011334\n",
      "myCorrelation: 0.7837742671535681\n"
     ]
    }
   ],
   "source": [
    "print(f\"defualt correlation: {correlation_coefficient}\")\n",
    "print(f\"myCorrelation: {myCorrelation}\")"
   ]
  },
  {
   "cell_type": "markdown",
   "id": "ec3df93d-0eeb-4e4c-9bdd-97917590f377",
   "metadata": {},
   "source": [
    "## Financial Calculations"
   ]
  },
  {
   "cell_type": "code",
   "execution_count": 1,
   "id": "ce6b73bb-843f-414e-b297-c2676b8bb6fa",
   "metadata": {},
   "outputs": [],
   "source": [
    "from statisco.finance import compoundInterest, moneyMadeInAYear, compoundInterestTime"
   ]
  },
  {
   "cell_type": "markdown",
   "id": "3e7e20d0-83a5-4b46-861d-af1bd6aaff68",
   "metadata": {},
   "source": [
    "### Compound Interest\n",
    "- **Principal**: Initial amount of money invested or loaned.\n",
    "- **Interest Rate**: The percentage of the principal that is charged or paid over a certain period. An interest rate of 5% means that 5% of the principal will be added to or deducted from the principal each period.\n",
    "- **Time Period**: Duration for which the money is invested or borrowed."
   ]
  },
  {
   "cell_type": "code",
   "execution_count": 2,
   "id": "5dd7e87f-abbc-44c3-b331-eb3f74403294",
   "metadata": {},
   "outputs": [],
   "source": [
    "def compound_interest(principal, interest_rate, time_period):\n",
    "    # Check if the inputs are valid\n",
    "    if time_period < 0:\n",
    "        raise ValueError(\"Time cannot be negative.\")\n",
    "    \n",
    "    # Calculate compound interest using the formula A = P * (1 + r)^t\n",
    "    future_value = principal * (1 + interest_rate) ** time_period\n",
    "    return future_value"
   ]
  },
  {
   "cell_type": "code",
   "execution_count": 3,
   "id": "d481ac8f-431f-49cb-93d1-48c6857de2ce",
   "metadata": {},
   "outputs": [
    {
     "name": "stdout",
     "output_type": "stream",
     "text": [
      "compound interest: 1102.5\n",
      "default compound interest: 1102.5\n"
     ]
    }
   ],
   "source": [
    "principal = 1000.0\n",
    "itr = 0.05\n",
    "t = 2.0\n",
    "cmpi = compoundInterest(principal, itr, t)\n",
    "default_cmpi = compound_interest(principal, itr, t)\n",
    "print(f\"compound interest: {cmpi}\")\n",
    "print(f\"default compound interest: {default_cmpi}\")"
   ]
  },
  {
   "cell_type": "markdown",
   "id": "527b4ea7-4d1c-4289-98f8-d9ec2b764cfb",
   "metadata": {},
   "source": [
    "### Money Made in a Year"
   ]
  },
  {
   "cell_type": "code",
   "execution_count": 4,
   "id": "abf2e0a3-b5ce-4284-a2ad-e042317384e0",
   "metadata": {},
   "outputs": [
    {
     "name": "stdout",
     "output_type": "stream",
     "text": [
      "Money Made in a Year: 55.125\n",
      "default money made in a year: 55.125\n"
     ]
    }
   ],
   "source": [
    "def money_made_in_a_year(P_t, r_t, t_t):\n",
    "    return r_t * (P_t * (1 + r_t) ** t_t)\n",
    "\n",
    "principal = 1000.0\n",
    "interest_rate = 0.05\n",
    "time_period = 2.0\n",
    "\n",
    "mmiay = moneyMadeInAYear(principal, itr, t)\n",
    "default_mmiay = money_made_in_a_year(principal, itr, t)\n",
    "print(f\"Money Made in a Year: {mmiay}\")\n",
    "print(f\"default money made in a year: {default_mmiay}\")"
   ]
  },
  {
   "cell_type": "markdown",
   "id": "142e1495-98c9-46fa-8190-d3089cd77895",
   "metadata": {},
   "source": [
    "### Compound Interest"
   ]
  },
  {
   "cell_type": "code",
   "execution_count": 8,
   "id": "5e0ccffe-35db-46c7-8c71-36f8c01031f9",
   "metadata": {},
   "outputs": [
    {
     "name": "stdout",
     "output_type": "stream",
     "text": [
      "Default compound interest time: 61.40033190195481 years\n",
      "cmpt: 61.40033190195481 years\n"
     ]
    }
   ],
   "source": [
    "def compound_interest_time(r_t):\n",
    "    \"\"\"\n",
    "    Calculate the time it takes for compound interest to reach a factor.\n",
    "    \"\"\"\n",
    "    return -math.log(r_t) / math.log(1 + r_t)\n",
    "\n",
    "interest_rate = 0.05  # Example interest rate (5%)\n",
    "compound_time = compound_interest_time(interest_rate)\n",
    "cmpt = compoundInterestTime(interest_rate)\n",
    "\n",
    "print(f\"Default compound interest time: {compound_time} years\")\n",
    "print(f\"cmpt: {cmpt} years\")"
   ]
  }
 ],
 "metadata": {
  "kernelspec": {
   "display_name": "Python 3 (ipykernel)",
   "language": "python",
   "name": "python3"
  },
  "language_info": {
   "codemirror_mode": {
    "name": "ipython",
    "version": 3
   },
   "file_extension": ".py",
   "mimetype": "text/x-python",
   "name": "python",
   "nbconvert_exporter": "python",
   "pygments_lexer": "ipython3",
   "version": "3.11.6"
  }
 },
 "nbformat": 4,
 "nbformat_minor": 5
}
